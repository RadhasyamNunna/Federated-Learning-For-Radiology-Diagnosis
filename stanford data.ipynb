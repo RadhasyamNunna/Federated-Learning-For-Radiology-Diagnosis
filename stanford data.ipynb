{
 "cells": [
  {
   "cell_type": "code",
   "execution_count": 1,
   "metadata": {},
   "outputs": [],
   "source": [
    "gpu=4\n",
    "CUDA_VISIBLE_DEVICES=gpu"
   ]
  },
  {
   "cell_type": "code",
   "execution_count": 2,
   "metadata": {},
   "outputs": [
    {
     "name": "stdout",
     "output_type": "stream",
     "text": [
      "True\n",
      "11721506816\n",
      "0\n"
     ]
    }
   ],
   "source": [
    "import numpy as np\n",
    "import pandas as pd\n",
    "\n",
    "import torch\n",
    "import torchvision\n",
    "import torch.nn as nn\n",
    "import torch.optim as optim\n",
    "from torchvision import datasets, models, transforms\n",
    "from torch.utils.data.sampler import SubsetRandomSampler\n",
    "\n",
    "import matplotlib.pyplot as plt\n",
    "import time\n",
    "import copy\n",
    "from random import shuffle\n",
    "\n",
    "import tqdm.notebook as tqdm\n",
    "\n",
    "import sklearn\n",
    "from sklearn.metrics import accuracy_score, cohen_kappa_score\n",
    "from sklearn.metrics import classification_report\n",
    "from PIL import Image\n",
    "import cv2\n",
    "\n",
    "# import osa\n",
    "import shutil\n",
    "\n",
    "import seaborn as sns\n",
    "import os\n",
    "import copy\n",
    "import torch\n",
    "import torch.nn as nn\n",
    "import torch.nn.functional as F\n",
    "import torch.optim as optim\n",
    "from torch.utils.data import DataLoader\n",
    "import torchvision.datasets as datasets\n",
    "import torchvision.transforms as transforms\n",
    "import matplotlib.pyplot as plt\n",
    "import torchvision\n",
    "from sklearn.metrics import roc_curve,auc, precision_score,precision_recall_curve,recall_score,precision_recall_fscore_support,confusion_matrix\n",
    "import numpy as np\n",
    "from prettytable import PrettyTable\n",
    "print(torch.cuda.is_available())\n",
    "import warnings\n",
    "warnings.filterwarnings(\"ignore\")\n",
    "import pandas as pd\n",
    "print(torch.cuda.get_device_properties(0).total_memory)\n",
    "print(torch.cuda.memory_allocated())\n",
    "gpu_id = gpu"
   ]
  },
  {
   "cell_type": "code",
   "execution_count": 3,
   "metadata": {},
   "outputs": [],
   "source": [
    "df=pd.read_csv(\"/DATA/chowdari1/DATA/dataset/stanford/CheXpert-v1.0-small/train.csv\")"
   ]
  },
  {
   "cell_type": "code",
   "execution_count": 4,
   "metadata": {},
   "outputs": [
    {
     "data": {
      "text/plain": [
       "(223414, 19)"
      ]
     },
     "execution_count": 4,
     "metadata": {},
     "output_type": "execute_result"
    }
   ],
   "source": [
    "df.shape"
   ]
  },
  {
   "cell_type": "code",
   "execution_count": 5,
   "metadata": {},
   "outputs": [
    {
     "data": {
      "text/plain": [
       "2310361"
      ]
     },
     "execution_count": 5,
     "metadata": {},
     "output_type": "execute_result"
    }
   ],
   "source": [
    "df.isnull().values.sum()"
   ]
  },
  {
   "cell_type": "code",
   "execution_count": 6,
   "metadata": {},
   "outputs": [],
   "source": [
    "df=df.fillna(-2)"
   ]
  },
  {
   "cell_type": "code",
   "execution_count": 7,
   "metadata": {},
   "outputs": [
    {
     "data": {
      "text/plain": [
       "('ral.jpg', 'tal.jpg')"
      ]
     },
     "execution_count": 7,
     "metadata": {},
     "output_type": "execute_result"
    }
   ],
   "source": [
    "df[\"Path\"][3][-7:],df[\"Path\"][4][-7:]"
   ]
  },
  {
   "cell_type": "code",
   "execution_count": 8,
   "metadata": {},
   "outputs": [
    {
     "data": {
      "text/plain": [
       "(32387, 191027, 32387)"
      ]
     },
     "execution_count": 8,
     "metadata": {},
     "output_type": "execute_result"
    }
   ],
   "source": [
    "lcount=0\n",
    "fcount=0\n",
    "l=[]\n",
    "for i in range(df.shape[0]):\n",
    "    if(df['Path'][i][-7:]=='ral.jpg'):\n",
    "        lcount+=1\n",
    "        l.append(i)\n",
    "    elif(df['Path'][i][-7:]=='tal.jpg'):\n",
    "        fcount+=1\n",
    "lcount, fcount,len(l)"
   ]
  },
  {
   "cell_type": "code",
   "execution_count": 9,
   "metadata": {},
   "outputs": [
    {
     "data": {
      "text/plain": [
       "(191027, 20)"
      ]
     },
     "execution_count": 9,
     "metadata": {},
     "output_type": "execute_result"
    }
   ],
   "source": [
    "df=df.drop(l)\n",
    "df=df.reset_index()\n",
    "df.shape"
   ]
  },
  {
   "cell_type": "code",
   "execution_count": 10,
   "metadata": {},
   "outputs": [
    {
     "data": {
      "text/plain": [
       "(0, 191027, 0)"
      ]
     },
     "execution_count": 10,
     "metadata": {},
     "output_type": "execute_result"
    }
   ],
   "source": [
    "lcount=0\n",
    "fcount=0\n",
    "l=[]\n",
    "for i in range(df.shape[0]):\n",
    "    if(df['Path'][i][-7:]=='ral.jpg'):\n",
    "        lcount+=1\n",
    "        l.append(i)\n",
    "    elif(df['Path'][i][-7:]=='tal.jpg'):\n",
    "        fcount+=1\n",
    "lcount, fcount,len(l)"
   ]
  },
  {
   "cell_type": "code",
   "execution_count": null,
   "metadata": {},
   "outputs": [],
   "source": []
  },
  {
   "cell_type": "code",
   "execution_count": null,
   "metadata": {},
   "outputs": [],
   "source": []
  },
  {
   "cell_type": "code",
   "execution_count": 11,
   "metadata": {},
   "outputs": [
    {
     "data": {
      "text/plain": [
       "array([ 1., -2.])"
      ]
     },
     "execution_count": 11,
     "metadata": {},
     "output_type": "execute_result"
    }
   ],
   "source": [
    "s=\"No Finding\"\n",
    "df[s].unique()"
   ]
  },
  {
   "cell_type": "code",
   "execution_count": 12,
   "metadata": {},
   "outputs": [
    {
     "data": {
      "text/plain": [
       "Index(['index', 'Path', 'Sex', 'Age', 'Frontal/Lateral', 'AP/PA', 'No Finding',\n",
       "       'Enlarged Cardiomediastinum', 'Cardiomegaly', 'Lung Opacity',\n",
       "       'Lung Lesion', 'Edema', 'Consolidation', 'Pneumonia', 'Atelectasis',\n",
       "       'Pneumothorax', 'Pleural Effusion', 'Pleural Other', 'Fracture',\n",
       "       'Support Devices'],\n",
       "      dtype='object')"
      ]
     },
     "execution_count": 12,
     "metadata": {},
     "output_type": "execute_result"
    }
   ],
   "source": [
    "df.columns"
   ]
  },
  {
   "cell_type": "code",
   "execution_count": 13,
   "metadata": {},
   "outputs": [
    {
     "data": {
      "text/plain": [
       "(191027, 0)"
      ]
     },
     "execution_count": 13,
     "metadata": {},
     "output_type": "execute_result"
    }
   ],
   "source": [
    "# df[\"label\"]\n",
    "count=0\n",
    "list=[]\n",
    "for i in range(df.shape[0]):\n",
    "    s=\"\"\n",
    "    # for j in df.columns[6:-2]:\n",
    "    for j in df.columns[6:]:\n",
    "        # print(j,\" \",s)\n",
    "        if df[j][i]==1:\n",
    "            # print(\"...\")\n",
    "            if(s!='' and (j=='Fracture' or j=='Support Devices')):\n",
    "                s=s\n",
    "            else:\n",
    "                s=s+j\n",
    "        # elif df[j][i]==-1:\n",
    "        #     count+=1\n",
    "    if( s=='Support Devices' or s=='Fracture' or s=='FractureSupport Devices'):\n",
    "        s='s/f'\n",
    "    list.append(s)\n",
    "len(list),count"
   ]
  },
  {
   "cell_type": "code",
   "execution_count": 14,
   "metadata": {},
   "outputs": [],
   "source": [
    "df[\"label\"]=list"
   ]
  },
  {
   "cell_type": "code",
   "execution_count": 15,
   "metadata": {},
   "outputs": [
    {
     "data": {
      "text/plain": [
       "0"
      ]
     },
     "execution_count": 15,
     "metadata": {},
     "output_type": "execute_result"
    }
   ],
   "source": [
    "count=0\n",
    "for i in range(df.shape[0]):\n",
    "    if(df['No Finding'][i]==1 and df['label'][i]=='') :\n",
    "        count+=1\n",
    "count"
   ]
  },
  {
   "cell_type": "code",
   "execution_count": 16,
   "metadata": {},
   "outputs": [
    {
     "data": {
      "text/plain": [
       "24171"
      ]
     },
     "execution_count": 16,
     "metadata": {},
     "output_type": "execute_result"
    }
   ],
   "source": [
    "count=0\n",
    "for i in range(df.shape[0]):\n",
    "    if(df['No Finding'][i]==1):\n",
    "        count+=1\n",
    "    elif(df['label'][i]=='s/f' and df['No Finding'][i]!=1):\n",
    "        count+=1\n",
    "    # if((df['No Finding'][i]==1 and df['label'][i]=='') or df['label'][i]=='s/f') :\n",
    "        # count+=1\n",
    "count"
   ]
  },
  {
   "cell_type": "code",
   "execution_count": 17,
   "metadata": {},
   "outputs": [
    {
     "data": {
      "text/plain": [
       "191027"
      ]
     },
     "execution_count": 17,
     "metadata": {},
     "output_type": "execute_result"
    }
   ],
   "source": [
    "len(list)"
   ]
  },
  {
   "cell_type": "code",
   "execution_count": 18,
   "metadata": {},
   "outputs": [
    {
     "data": {
      "text/plain": [
       "(658,)"
      ]
     },
     "execution_count": 18,
     "metadata": {},
     "output_type": "execute_result"
    }
   ],
   "source": [
    "df['label'].unique().shape"
   ]
  },
  {
   "cell_type": "code",
   "execution_count": 19,
   "metadata": {},
   "outputs": [
    {
     "data": {
      "text/plain": [
       "-2.0    174053\n",
       " 1.0     16974\n",
       "Name: No Finding, dtype: int64"
      ]
     },
     "execution_count": 19,
     "metadata": {},
     "output_type": "execute_result"
    }
   ],
   "source": [
    "df['No Finding'].value_counts()"
   ]
  },
  {
   "cell_type": "code",
   "execution_count": 20,
   "metadata": {},
   "outputs": [
    {
     "data": {
      "text/plain": [
       "Lung OpacityPleural Effusion                                                                    19095\n",
       "Lung Opacity                                                                                    18234\n",
       "No Finding                                                                                      16974\n",
       "Lung OpacityEdemaPleural Effusion                                                                8680\n",
       "                                                                                                 7766\n",
       "                                                                                                ...  \n",
       "Enlarged CardiomediastinumCardiomegalyLung LesionPneumothorax                                       1\n",
       "Enlarged CardiomediastinumCardiomegalyPneumothoraxPleural Effusion                                  1\n",
       "Enlarged CardiomediastinumCardiomegalyLung LesionConsolidation                                      1\n",
       "Enlarged CardiomediastinumLung LesionPleural EffusionPleural Other                                  1\n",
       "Enlarged CardiomediastinumLung OpacityEdemaConsolidationPneumoniaAtelectasisPleural Effusion        1\n",
       "Name: label, Length: 658, dtype: int64"
      ]
     },
     "execution_count": 20,
     "metadata": {},
     "output_type": "execute_result"
    }
   ],
   "source": [
    "df['label'].value_counts()[:]"
   ]
  },
  {
   "cell_type": "code",
   "execution_count": 21,
   "metadata": {},
   "outputs": [],
   "source": [
    "# df['tar']=np.empty(df.shape[0])"
   ]
  },
  {
   "cell_type": "code",
   "execution_count": 22,
   "metadata": {},
   "outputs": [],
   "source": [
    "df['tar']=np.full(df.shape[0],-3)"
   ]
  },
  {
   "cell_type": "code",
   "execution_count": 23,
   "metadata": {},
   "outputs": [
    {
     "data": {
      "text/plain": [
       "-3    191027\n",
       "Name: tar, dtype: int64"
      ]
     },
     "execution_count": 23,
     "metadata": {},
     "output_type": "execute_result"
    }
   ],
   "source": [
    "df['tar'].value_counts()"
   ]
  },
  {
   "cell_type": "code",
   "execution_count": 24,
   "metadata": {},
   "outputs": [
    {
     "data": {
      "text/plain": [
       "(24171, 159090, 7766, 0)"
      ]
     },
     "execution_count": 24,
     "metadata": {},
     "output_type": "execute_result"
    }
   ],
   "source": [
    "cnan=0\n",
    "count0=0\n",
    "count1=0\n",
    "val=0\n",
    "etc=0\n",
    "for i in range(df.shape[0]):\n",
    "    s= df['label'][i]\n",
    "    if(df['No Finding'][i]==1 or s=='s/f'):\n",
    "        count0+=1\n",
    "        val=0\n",
    "    elif(s=='' and df['No Finding'][i]!=1):\n",
    "        cnan+=1\n",
    "        val=-2\n",
    "    elif(s!='' or s!='s/f'):\n",
    "        val=1\n",
    "        count1+=1\n",
    "    else:\n",
    "        etc+=1\n",
    "    df['tar'][i]=val\n",
    "count0,count1,cnan,etc\n"
   ]
  },
  {
   "cell_type": "code",
   "execution_count": 25,
   "metadata": {},
   "outputs": [
    {
     "data": {
      "text/plain": [
       " 1    159090\n",
       " 0     24171\n",
       "-2      7766\n",
       "Name: tar, dtype: int64"
      ]
     },
     "execution_count": 25,
     "metadata": {},
     "output_type": "execute_result"
    }
   ],
   "source": [
    "df['tar'].value_counts()"
   ]
  },
  {
   "cell_type": "code",
   "execution_count": 26,
   "metadata": {},
   "outputs": [
    {
     "name": "stdout",
     "output_type": "stream",
     "text": [
      "15\n"
     ]
    }
   ],
   "source": [
    "for i in range(df.shape[0]):\n",
    "    if(df['tar'][i]==-2):\n",
    "        print(i)\n",
    "        break"
   ]
  },
  {
   "cell_type": "code",
   "execution_count": 27,
   "metadata": {},
   "outputs": [
    {
     "data": {
      "text/plain": [
       "15"
      ]
     },
     "execution_count": 27,
     "metadata": {},
     "output_type": "execute_result"
    }
   ],
   "source": [
    "i"
   ]
  },
  {
   "cell_type": "code",
   "execution_count": 28,
   "metadata": {},
   "outputs": [
    {
     "data": {
      "text/plain": [
       "index                                                                        20\n",
       "Path                          CheXpert-v1.0-small/train/patient00011/study13...\n",
       "Sex                                                                      Female\n",
       "Age                                                                          22\n",
       "Frontal/Lateral                                                         Frontal\n",
       "AP/PA                                                                        PA\n",
       "No Finding                                                                 -2.0\n",
       "Enlarged Cardiomediastinum                                                  0.0\n",
       "Cardiomegaly                                                               -2.0\n",
       "Lung Opacity                                                               -2.0\n",
       "Lung Lesion                                                                -2.0\n",
       "Edema                                                                      -2.0\n",
       "Consolidation                                                               0.0\n",
       "Pneumonia                                                                  -2.0\n",
       "Atelectasis                                                                 0.0\n",
       "Pneumothorax                                                                0.0\n",
       "Pleural Effusion                                                            0.0\n",
       "Pleural Other                                                              -2.0\n",
       "Fracture                                                                   -2.0\n",
       "Support Devices                                                            -2.0\n",
       "label                                                                          \n",
       "tar                                                                          -2\n",
       "Name: 15, dtype: object"
      ]
     },
     "execution_count": 28,
     "metadata": {},
     "output_type": "execute_result"
    }
   ],
   "source": [
    "df.iloc[15]"
   ]
  },
  {
   "cell_type": "code",
   "execution_count": 29,
   "metadata": {},
   "outputs": [
    {
     "data": {
      "text/plain": [
       " 1    159090\n",
       " 0     24171\n",
       "-2      7766\n",
       "Name: tar, dtype: int64"
      ]
     },
     "execution_count": 29,
     "metadata": {},
     "output_type": "execute_result"
    }
   ],
   "source": [
    "df['tar'].value_counts()"
   ]
  },
  {
   "cell_type": "code",
   "execution_count": 30,
   "metadata": {},
   "outputs": [
    {
     "data": {
      "text/plain": [
       "7766"
      ]
     },
     "execution_count": 30,
     "metadata": {},
     "output_type": "execute_result"
    }
   ],
   "source": [
    "l=[]\n",
    "for i in range(df.shape[0]):\n",
    "    if(df['tar'][i]==-2):\n",
    "        l.append(i)\n",
    "len(l)"
   ]
  },
  {
   "cell_type": "code",
   "execution_count": 31,
   "metadata": {},
   "outputs": [],
   "source": [
    "df=df.drop(l)\n"
   ]
  },
  {
   "cell_type": "code",
   "execution_count": 32,
   "metadata": {},
   "outputs": [],
   "source": [
    "df=df.reset_index()"
   ]
  },
  {
   "cell_type": "code",
   "execution_count": 33,
   "metadata": {},
   "outputs": [
    {
     "data": {
      "text/plain": [
       "1    159090\n",
       "0     24171\n",
       "Name: tar, dtype: int64"
      ]
     },
     "execution_count": 33,
     "metadata": {},
     "output_type": "execute_result"
    }
   ],
   "source": [
    "df['tar'].value_counts()"
   ]
  },
  {
   "cell_type": "code",
   "execution_count": 34,
   "metadata": {},
   "outputs": [
    {
     "data": {
      "text/html": [
       "<div>\n",
       "<style scoped>\n",
       "    .dataframe tbody tr th:only-of-type {\n",
       "        vertical-align: middle;\n",
       "    }\n",
       "\n",
       "    .dataframe tbody tr th {\n",
       "        vertical-align: top;\n",
       "    }\n",
       "\n",
       "    .dataframe thead th {\n",
       "        text-align: right;\n",
       "    }\n",
       "</style>\n",
       "<table border=\"1\" class=\"dataframe\">\n",
       "  <thead>\n",
       "    <tr style=\"text-align: right;\">\n",
       "      <th></th>\n",
       "      <th>level_0</th>\n",
       "      <th>index</th>\n",
       "      <th>Path</th>\n",
       "      <th>Sex</th>\n",
       "      <th>Age</th>\n",
       "      <th>Frontal/Lateral</th>\n",
       "      <th>AP/PA</th>\n",
       "      <th>No Finding</th>\n",
       "      <th>Enlarged Cardiomediastinum</th>\n",
       "      <th>Cardiomegaly</th>\n",
       "      <th>...</th>\n",
       "      <th>Consolidation</th>\n",
       "      <th>Pneumonia</th>\n",
       "      <th>Atelectasis</th>\n",
       "      <th>Pneumothorax</th>\n",
       "      <th>Pleural Effusion</th>\n",
       "      <th>Pleural Other</th>\n",
       "      <th>Fracture</th>\n",
       "      <th>Support Devices</th>\n",
       "      <th>label</th>\n",
       "      <th>tar</th>\n",
       "    </tr>\n",
       "  </thead>\n",
       "  <tbody>\n",
       "    <tr>\n",
       "      <th>0</th>\n",
       "      <td>0</td>\n",
       "      <td>0</td>\n",
       "      <td>CheXpert-v1.0-small/train/patient00001/study1/...</td>\n",
       "      <td>Female</td>\n",
       "      <td>68</td>\n",
       "      <td>Frontal</td>\n",
       "      <td>AP</td>\n",
       "      <td>1.0</td>\n",
       "      <td>-2.0</td>\n",
       "      <td>-2.0</td>\n",
       "      <td>...</td>\n",
       "      <td>-2.0</td>\n",
       "      <td>-2.0</td>\n",
       "      <td>-2.0</td>\n",
       "      <td>0.0</td>\n",
       "      <td>-2.0</td>\n",
       "      <td>-2.0</td>\n",
       "      <td>-2.0</td>\n",
       "      <td>1.0</td>\n",
       "      <td>No Finding</td>\n",
       "      <td>0</td>\n",
       "    </tr>\n",
       "    <tr>\n",
       "      <th>1</th>\n",
       "      <td>1</td>\n",
       "      <td>1</td>\n",
       "      <td>CheXpert-v1.0-small/train/patient00002/study2/...</td>\n",
       "      <td>Female</td>\n",
       "      <td>87</td>\n",
       "      <td>Frontal</td>\n",
       "      <td>AP</td>\n",
       "      <td>-2.0</td>\n",
       "      <td>-2.0</td>\n",
       "      <td>-1.0</td>\n",
       "      <td>...</td>\n",
       "      <td>-1.0</td>\n",
       "      <td>-2.0</td>\n",
       "      <td>-1.0</td>\n",
       "      <td>-2.0</td>\n",
       "      <td>-1.0</td>\n",
       "      <td>-2.0</td>\n",
       "      <td>1.0</td>\n",
       "      <td>-2.0</td>\n",
       "      <td>Lung Opacity</td>\n",
       "      <td>1</td>\n",
       "    </tr>\n",
       "    <tr>\n",
       "      <th>2</th>\n",
       "      <td>2</td>\n",
       "      <td>2</td>\n",
       "      <td>CheXpert-v1.0-small/train/patient00002/study1/...</td>\n",
       "      <td>Female</td>\n",
       "      <td>83</td>\n",
       "      <td>Frontal</td>\n",
       "      <td>AP</td>\n",
       "      <td>-2.0</td>\n",
       "      <td>-2.0</td>\n",
       "      <td>-2.0</td>\n",
       "      <td>...</td>\n",
       "      <td>-1.0</td>\n",
       "      <td>-2.0</td>\n",
       "      <td>-2.0</td>\n",
       "      <td>-2.0</td>\n",
       "      <td>-2.0</td>\n",
       "      <td>-2.0</td>\n",
       "      <td>1.0</td>\n",
       "      <td>-2.0</td>\n",
       "      <td>Lung Opacity</td>\n",
       "      <td>1</td>\n",
       "    </tr>\n",
       "    <tr>\n",
       "      <th>3</th>\n",
       "      <td>3</td>\n",
       "      <td>4</td>\n",
       "      <td>CheXpert-v1.0-small/train/patient00003/study1/...</td>\n",
       "      <td>Male</td>\n",
       "      <td>41</td>\n",
       "      <td>Frontal</td>\n",
       "      <td>AP</td>\n",
       "      <td>-2.0</td>\n",
       "      <td>-2.0</td>\n",
       "      <td>-2.0</td>\n",
       "      <td>...</td>\n",
       "      <td>-2.0</td>\n",
       "      <td>-2.0</td>\n",
       "      <td>-2.0</td>\n",
       "      <td>0.0</td>\n",
       "      <td>-2.0</td>\n",
       "      <td>-2.0</td>\n",
       "      <td>-2.0</td>\n",
       "      <td>-2.0</td>\n",
       "      <td>Edema</td>\n",
       "      <td>1</td>\n",
       "    </tr>\n",
       "    <tr>\n",
       "      <th>4</th>\n",
       "      <td>4</td>\n",
       "      <td>5</td>\n",
       "      <td>CheXpert-v1.0-small/train/patient00004/study1/...</td>\n",
       "      <td>Female</td>\n",
       "      <td>20</td>\n",
       "      <td>Frontal</td>\n",
       "      <td>PA</td>\n",
       "      <td>1.0</td>\n",
       "      <td>0.0</td>\n",
       "      <td>-2.0</td>\n",
       "      <td>...</td>\n",
       "      <td>0.0</td>\n",
       "      <td>-2.0</td>\n",
       "      <td>-2.0</td>\n",
       "      <td>-2.0</td>\n",
       "      <td>0.0</td>\n",
       "      <td>-2.0</td>\n",
       "      <td>-2.0</td>\n",
       "      <td>-2.0</td>\n",
       "      <td>No Finding</td>\n",
       "      <td>0</td>\n",
       "    </tr>\n",
       "  </tbody>\n",
       "</table>\n",
       "<p>5 rows × 23 columns</p>\n",
       "</div>"
      ],
      "text/plain": [
       "   level_0  index                                               Path     Sex  \\\n",
       "0        0      0  CheXpert-v1.0-small/train/patient00001/study1/...  Female   \n",
       "1        1      1  CheXpert-v1.0-small/train/patient00002/study2/...  Female   \n",
       "2        2      2  CheXpert-v1.0-small/train/patient00002/study1/...  Female   \n",
       "3        3      4  CheXpert-v1.0-small/train/patient00003/study1/...    Male   \n",
       "4        4      5  CheXpert-v1.0-small/train/patient00004/study1/...  Female   \n",
       "\n",
       "   Age Frontal/Lateral AP/PA  No Finding  Enlarged Cardiomediastinum  \\\n",
       "0   68         Frontal    AP         1.0                        -2.0   \n",
       "1   87         Frontal    AP        -2.0                        -2.0   \n",
       "2   83         Frontal    AP        -2.0                        -2.0   \n",
       "3   41         Frontal    AP        -2.0                        -2.0   \n",
       "4   20         Frontal    PA         1.0                         0.0   \n",
       "\n",
       "   Cardiomegaly  ...  Consolidation  Pneumonia  Atelectasis  Pneumothorax  \\\n",
       "0          -2.0  ...           -2.0       -2.0         -2.0           0.0   \n",
       "1          -1.0  ...           -1.0       -2.0         -1.0          -2.0   \n",
       "2          -2.0  ...           -1.0       -2.0         -2.0          -2.0   \n",
       "3          -2.0  ...           -2.0       -2.0         -2.0           0.0   \n",
       "4          -2.0  ...            0.0       -2.0         -2.0          -2.0   \n",
       "\n",
       "   Pleural Effusion  Pleural Other  Fracture  Support Devices         label  \\\n",
       "0              -2.0           -2.0      -2.0              1.0    No Finding   \n",
       "1              -1.0           -2.0       1.0             -2.0  Lung Opacity   \n",
       "2              -2.0           -2.0       1.0             -2.0  Lung Opacity   \n",
       "3              -2.0           -2.0      -2.0             -2.0         Edema   \n",
       "4               0.0           -2.0      -2.0             -2.0    No Finding   \n",
       "\n",
       "   tar  \n",
       "0    0  \n",
       "1    1  \n",
       "2    1  \n",
       "3    1  \n",
       "4    0  \n",
       "\n",
       "[5 rows x 23 columns]"
      ]
     },
     "execution_count": 34,
     "metadata": {},
     "output_type": "execute_result"
    }
   ],
   "source": [
    "df.head()"
   ]
  },
  {
   "cell_type": "code",
   "execution_count": 35,
   "metadata": {},
   "outputs": [
    {
     "data": {
      "text/plain": [
       "(183261, 23)"
      ]
     },
     "execution_count": 35,
     "metadata": {},
     "output_type": "execute_result"
    }
   ],
   "source": [
    "df.shape"
   ]
  },
  {
   "cell_type": "code",
   "execution_count": 36,
   "metadata": {},
   "outputs": [
    {
     "data": {
      "text/plain": [
       "level_0                                                                      16\n",
       "index                                                                        22\n",
       "Path                          CheXpert-v1.0-small/train/patient00011/study1/...\n",
       "Sex                                                                      Female\n",
       "Age                                                                          19\n",
       "Frontal/Lateral                                                         Frontal\n",
       "AP/PA                                                                        AP\n",
       "No Finding                                                                 -2.0\n",
       "Enlarged Cardiomediastinum                                                 -2.0\n",
       "Cardiomegaly                                                               -2.0\n",
       "Lung Opacity                                                                1.0\n",
       "Lung Lesion                                                                -2.0\n",
       "Edema                                                                      -2.0\n",
       "Consolidation                                                              -1.0\n",
       "Pneumonia                                                                  -2.0\n",
       "Atelectasis                                                                -2.0\n",
       "Pneumothorax                                                               -1.0\n",
       "Pleural Effusion                                                           -1.0\n",
       "Pleural Other                                                              -2.0\n",
       "Fracture                                                                   -2.0\n",
       "Support Devices                                                             1.0\n",
       "label                                                              Lung Opacity\n",
       "tar                                                                           1\n",
       "Name: 15, dtype: object"
      ]
     },
     "execution_count": 36,
     "metadata": {},
     "output_type": "execute_result"
    }
   ],
   "source": [
    "df.iloc[15]"
   ]
  },
  {
   "cell_type": "code",
   "execution_count": 37,
   "metadata": {},
   "outputs": [
    {
     "data": {
      "text/html": [
       "<div>\n",
       "<style scoped>\n",
       "    .dataframe tbody tr th:only-of-type {\n",
       "        vertical-align: middle;\n",
       "    }\n",
       "\n",
       "    .dataframe tbody tr th {\n",
       "        vertical-align: top;\n",
       "    }\n",
       "\n",
       "    .dataframe thead th {\n",
       "        text-align: right;\n",
       "    }\n",
       "</style>\n",
       "<table border=\"1\" class=\"dataframe\">\n",
       "  <thead>\n",
       "    <tr style=\"text-align: right;\">\n",
       "      <th></th>\n",
       "      <th>level_0</th>\n",
       "      <th>index</th>\n",
       "      <th>Path</th>\n",
       "      <th>Sex</th>\n",
       "      <th>Age</th>\n",
       "      <th>Frontal/Lateral</th>\n",
       "      <th>AP/PA</th>\n",
       "      <th>No Finding</th>\n",
       "      <th>Enlarged Cardiomediastinum</th>\n",
       "      <th>Cardiomegaly</th>\n",
       "      <th>...</th>\n",
       "      <th>Consolidation</th>\n",
       "      <th>Pneumonia</th>\n",
       "      <th>Atelectasis</th>\n",
       "      <th>Pneumothorax</th>\n",
       "      <th>Pleural Effusion</th>\n",
       "      <th>Pleural Other</th>\n",
       "      <th>Fracture</th>\n",
       "      <th>Support Devices</th>\n",
       "      <th>label</th>\n",
       "      <th>tar</th>\n",
       "    </tr>\n",
       "  </thead>\n",
       "  <tbody>\n",
       "    <tr>\n",
       "      <th>0</th>\n",
       "      <td>0</td>\n",
       "      <td>0</td>\n",
       "      <td>CheXpert-v1.0-small/train/patient00001/study1/...</td>\n",
       "      <td>Female</td>\n",
       "      <td>68</td>\n",
       "      <td>Frontal</td>\n",
       "      <td>AP</td>\n",
       "      <td>1.0</td>\n",
       "      <td>-2.0</td>\n",
       "      <td>-2.0</td>\n",
       "      <td>...</td>\n",
       "      <td>-2.0</td>\n",
       "      <td>-2.0</td>\n",
       "      <td>-2.0</td>\n",
       "      <td>0.0</td>\n",
       "      <td>-2.0</td>\n",
       "      <td>-2.0</td>\n",
       "      <td>-2.0</td>\n",
       "      <td>1.0</td>\n",
       "      <td>No Finding</td>\n",
       "      <td>0</td>\n",
       "    </tr>\n",
       "    <tr>\n",
       "      <th>1</th>\n",
       "      <td>1</td>\n",
       "      <td>1</td>\n",
       "      <td>CheXpert-v1.0-small/train/patient00002/study2/...</td>\n",
       "      <td>Female</td>\n",
       "      <td>87</td>\n",
       "      <td>Frontal</td>\n",
       "      <td>AP</td>\n",
       "      <td>-2.0</td>\n",
       "      <td>-2.0</td>\n",
       "      <td>-1.0</td>\n",
       "      <td>...</td>\n",
       "      <td>-1.0</td>\n",
       "      <td>-2.0</td>\n",
       "      <td>-1.0</td>\n",
       "      <td>-2.0</td>\n",
       "      <td>-1.0</td>\n",
       "      <td>-2.0</td>\n",
       "      <td>1.0</td>\n",
       "      <td>-2.0</td>\n",
       "      <td>Lung Opacity</td>\n",
       "      <td>1</td>\n",
       "    </tr>\n",
       "    <tr>\n",
       "      <th>2</th>\n",
       "      <td>2</td>\n",
       "      <td>2</td>\n",
       "      <td>CheXpert-v1.0-small/train/patient00002/study1/...</td>\n",
       "      <td>Female</td>\n",
       "      <td>83</td>\n",
       "      <td>Frontal</td>\n",
       "      <td>AP</td>\n",
       "      <td>-2.0</td>\n",
       "      <td>-2.0</td>\n",
       "      <td>-2.0</td>\n",
       "      <td>...</td>\n",
       "      <td>-1.0</td>\n",
       "      <td>-2.0</td>\n",
       "      <td>-2.0</td>\n",
       "      <td>-2.0</td>\n",
       "      <td>-2.0</td>\n",
       "      <td>-2.0</td>\n",
       "      <td>1.0</td>\n",
       "      <td>-2.0</td>\n",
       "      <td>Lung Opacity</td>\n",
       "      <td>1</td>\n",
       "    </tr>\n",
       "    <tr>\n",
       "      <th>3</th>\n",
       "      <td>3</td>\n",
       "      <td>4</td>\n",
       "      <td>CheXpert-v1.0-small/train/patient00003/study1/...</td>\n",
       "      <td>Male</td>\n",
       "      <td>41</td>\n",
       "      <td>Frontal</td>\n",
       "      <td>AP</td>\n",
       "      <td>-2.0</td>\n",
       "      <td>-2.0</td>\n",
       "      <td>-2.0</td>\n",
       "      <td>...</td>\n",
       "      <td>-2.0</td>\n",
       "      <td>-2.0</td>\n",
       "      <td>-2.0</td>\n",
       "      <td>0.0</td>\n",
       "      <td>-2.0</td>\n",
       "      <td>-2.0</td>\n",
       "      <td>-2.0</td>\n",
       "      <td>-2.0</td>\n",
       "      <td>Edema</td>\n",
       "      <td>1</td>\n",
       "    </tr>\n",
       "    <tr>\n",
       "      <th>4</th>\n",
       "      <td>4</td>\n",
       "      <td>5</td>\n",
       "      <td>CheXpert-v1.0-small/train/patient00004/study1/...</td>\n",
       "      <td>Female</td>\n",
       "      <td>20</td>\n",
       "      <td>Frontal</td>\n",
       "      <td>PA</td>\n",
       "      <td>1.0</td>\n",
       "      <td>0.0</td>\n",
       "      <td>-2.0</td>\n",
       "      <td>...</td>\n",
       "      <td>0.0</td>\n",
       "      <td>-2.0</td>\n",
       "      <td>-2.0</td>\n",
       "      <td>-2.0</td>\n",
       "      <td>0.0</td>\n",
       "      <td>-2.0</td>\n",
       "      <td>-2.0</td>\n",
       "      <td>-2.0</td>\n",
       "      <td>No Finding</td>\n",
       "      <td>0</td>\n",
       "    </tr>\n",
       "  </tbody>\n",
       "</table>\n",
       "<p>5 rows × 23 columns</p>\n",
       "</div>"
      ],
      "text/plain": [
       "   level_0  index                                               Path     Sex  \\\n",
       "0        0      0  CheXpert-v1.0-small/train/patient00001/study1/...  Female   \n",
       "1        1      1  CheXpert-v1.0-small/train/patient00002/study2/...  Female   \n",
       "2        2      2  CheXpert-v1.0-small/train/patient00002/study1/...  Female   \n",
       "3        3      4  CheXpert-v1.0-small/train/patient00003/study1/...    Male   \n",
       "4        4      5  CheXpert-v1.0-small/train/patient00004/study1/...  Female   \n",
       "\n",
       "   Age Frontal/Lateral AP/PA  No Finding  Enlarged Cardiomediastinum  \\\n",
       "0   68         Frontal    AP         1.0                        -2.0   \n",
       "1   87         Frontal    AP        -2.0                        -2.0   \n",
       "2   83         Frontal    AP        -2.0                        -2.0   \n",
       "3   41         Frontal    AP        -2.0                        -2.0   \n",
       "4   20         Frontal    PA         1.0                         0.0   \n",
       "\n",
       "   Cardiomegaly  ...  Consolidation  Pneumonia  Atelectasis  Pneumothorax  \\\n",
       "0          -2.0  ...           -2.0       -2.0         -2.0           0.0   \n",
       "1          -1.0  ...           -1.0       -2.0         -1.0          -2.0   \n",
       "2          -2.0  ...           -1.0       -2.0         -2.0          -2.0   \n",
       "3          -2.0  ...           -2.0       -2.0         -2.0           0.0   \n",
       "4          -2.0  ...            0.0       -2.0         -2.0          -2.0   \n",
       "\n",
       "   Pleural Effusion  Pleural Other  Fracture  Support Devices         label  \\\n",
       "0              -2.0           -2.0      -2.0              1.0    No Finding   \n",
       "1              -1.0           -2.0       1.0             -2.0  Lung Opacity   \n",
       "2              -2.0           -2.0       1.0             -2.0  Lung Opacity   \n",
       "3              -2.0           -2.0      -2.0             -2.0         Edema   \n",
       "4               0.0           -2.0      -2.0             -2.0    No Finding   \n",
       "\n",
       "   tar  \n",
       "0    0  \n",
       "1    1  \n",
       "2    1  \n",
       "3    1  \n",
       "4    0  \n",
       "\n",
       "[5 rows x 23 columns]"
      ]
     },
     "execution_count": 37,
     "metadata": {},
     "output_type": "execute_result"
    }
   ],
   "source": [
    "df.head()"
   ]
  },
  {
   "cell_type": "code",
   "execution_count": 38,
   "metadata": {},
   "outputs": [
    {
     "data": {
      "text/plain": [
       "(183261, 23)"
      ]
     },
     "execution_count": 38,
     "metadata": {},
     "output_type": "execute_result"
    }
   ],
   "source": [
    "df.shape"
   ]
  },
  {
   "cell_type": "code",
   "execution_count": 39,
   "metadata": {},
   "outputs": [
    {
     "data": {
      "text/plain": [
       "1    159090\n",
       "0     24171\n",
       "Name: tar, dtype: int64"
      ]
     },
     "execution_count": 39,
     "metadata": {},
     "output_type": "execute_result"
    }
   ],
   "source": [
    "df['tar'].value_counts()"
   ]
  },
  {
   "cell_type": "code",
   "execution_count": 40,
   "metadata": {},
   "outputs": [],
   "source": [
    "# 24171\n",
    "# nof=24171\n",
    "df2=pd.DataFrame()\n",
    "df2['path']=np.empty(df.shape[0])\n",
    "df2['target']=np.zeros(df.shape[0])"
   ]
  },
  {
   "cell_type": "code",
   "execution_count": 45,
   "metadata": {},
   "outputs": [],
   "source": [
    "df2['path']=df['Path']\n",
    "df2['target']=df['tar']"
   ]
  },
  {
   "cell_type": "code",
   "execution_count": 46,
   "metadata": {},
   "outputs": [
    {
     "data": {
      "text/html": [
       "<div>\n",
       "<style scoped>\n",
       "    .dataframe tbody tr th:only-of-type {\n",
       "        vertical-align: middle;\n",
       "    }\n",
       "\n",
       "    .dataframe tbody tr th {\n",
       "        vertical-align: top;\n",
       "    }\n",
       "\n",
       "    .dataframe thead th {\n",
       "        text-align: right;\n",
       "    }\n",
       "</style>\n",
       "<table border=\"1\" class=\"dataframe\">\n",
       "  <thead>\n",
       "    <tr style=\"text-align: right;\">\n",
       "      <th></th>\n",
       "      <th>path</th>\n",
       "      <th>target</th>\n",
       "    </tr>\n",
       "  </thead>\n",
       "  <tbody>\n",
       "    <tr>\n",
       "      <th>0</th>\n",
       "      <td>CheXpert-v1.0-small/train/patient00001/study1/...</td>\n",
       "      <td>0</td>\n",
       "    </tr>\n",
       "    <tr>\n",
       "      <th>1</th>\n",
       "      <td>CheXpert-v1.0-small/train/patient00002/study2/...</td>\n",
       "      <td>1</td>\n",
       "    </tr>\n",
       "    <tr>\n",
       "      <th>2</th>\n",
       "      <td>CheXpert-v1.0-small/train/patient00002/study1/...</td>\n",
       "      <td>1</td>\n",
       "    </tr>\n",
       "    <tr>\n",
       "      <th>3</th>\n",
       "      <td>CheXpert-v1.0-small/train/patient00003/study1/...</td>\n",
       "      <td>1</td>\n",
       "    </tr>\n",
       "    <tr>\n",
       "      <th>4</th>\n",
       "      <td>CheXpert-v1.0-small/train/patient00004/study1/...</td>\n",
       "      <td>0</td>\n",
       "    </tr>\n",
       "  </tbody>\n",
       "</table>\n",
       "</div>"
      ],
      "text/plain": [
       "                                                path  target\n",
       "0  CheXpert-v1.0-small/train/patient00001/study1/...       0\n",
       "1  CheXpert-v1.0-small/train/patient00002/study2/...       1\n",
       "2  CheXpert-v1.0-small/train/patient00002/study1/...       1\n",
       "3  CheXpert-v1.0-small/train/patient00003/study1/...       1\n",
       "4  CheXpert-v1.0-small/train/patient00004/study1/...       0"
      ]
     },
     "execution_count": 46,
     "metadata": {},
     "output_type": "execute_result"
    }
   ],
   "source": [
    "df2.head()"
   ]
  },
  {
   "cell_type": "code",
   "execution_count": 50,
   "metadata": {},
   "outputs": [
    {
     "data": {
      "text/plain": [
       "1    159090\n",
       "0     24171\n",
       "Name: target, dtype: int64"
      ]
     },
     "execution_count": 50,
     "metadata": {},
     "output_type": "execute_result"
    }
   ],
   "source": [
    "df2['target'].value_counts()"
   ]
  },
  {
   "cell_type": "code",
   "execution_count": null,
   "metadata": {},
   "outputs": [],
   "source": [
    "df2.to_csv('/DATA/chowdari1/DATA/dataset/stanford/wow.csv')"
   ]
  },
  {
   "cell_type": "code",
   "execution_count": 48,
   "metadata": {},
   "outputs": [
    {
     "data": {
      "text/plain": [
       "path      CheXpert-v1.0-small/train/patient00001/study1/...\n",
       "target                                                    0\n",
       "Name: 0, dtype: object"
      ]
     },
     "execution_count": 48,
     "metadata": {},
     "output_type": "execute_result"
    }
   ],
   "source": [
    "df2.iloc[0]"
   ]
  },
  {
   "cell_type": "code",
   "execution_count": 49,
   "metadata": {},
   "outputs": [
    {
     "data": {
      "text/plain": [
       "level_0                                                                       1\n",
       "index                                                                         1\n",
       "Path                          CheXpert-v1.0-small/train/patient00002/study2/...\n",
       "Sex                                                                      Female\n",
       "Age                                                                          87\n",
       "Frontal/Lateral                                                         Frontal\n",
       "AP/PA                                                                        AP\n",
       "No Finding                                                                 -2.0\n",
       "Enlarged Cardiomediastinum                                                 -2.0\n",
       "Cardiomegaly                                                               -1.0\n",
       "Lung Opacity                                                                1.0\n",
       "Lung Lesion                                                                -2.0\n",
       "Edema                                                                      -1.0\n",
       "Consolidation                                                              -1.0\n",
       "Pneumonia                                                                  -2.0\n",
       "Atelectasis                                                                -1.0\n",
       "Pneumothorax                                                               -2.0\n",
       "Pleural Effusion                                                           -1.0\n",
       "Pleural Other                                                              -2.0\n",
       "Fracture                                                                    1.0\n",
       "Support Devices                                                            -2.0\n",
       "label                                                              Lung Opacity\n",
       "tar                                                                           1\n",
       "Name: 1, dtype: object"
      ]
     },
     "execution_count": 49,
     "metadata": {},
     "output_type": "execute_result"
    }
   ],
   "source": [
    "df.iloc[1]"
   ]
  },
  {
   "cell_type": "code",
   "execution_count": 57,
   "metadata": {},
   "outputs": [],
   "source": [
    "# 24171\n",
    "nof=24171\n",
    "nodf=pd.DataFrame()\n",
    "nodf['path']=np.empty(nof)\n",
    "nodf['target']=np.zeros(nof)"
   ]
  },
  {
   "cell_type": "code",
   "execution_count": 37,
   "metadata": {},
   "outputs": [
    {
     "data": {
      "text/plain": [
       "183261"
      ]
     },
     "execution_count": 37,
     "metadata": {},
     "output_type": "execute_result"
    }
   ],
   "source": [
    "df.shape[0]"
   ]
  },
  {
   "cell_type": "code",
   "execution_count": 44,
   "metadata": {},
   "outputs": [
    {
     "data": {
      "text/plain": [
       "Index(['level_0', 'index', 'Path', 'Sex', 'Age', 'Frontal/Lateral', 'AP/PA',\n",
       "       'No Finding', 'Enlarged Cardiomediastinum', 'Cardiomegaly',\n",
       "       'Lung Opacity', 'Lung Lesion', 'Edema', 'Consolidation', 'Pneumonia',\n",
       "       'Atelectasis', 'Pneumothorax', 'Pleural Effusion', 'Pleural Other',\n",
       "       'Fracture', 'Support Devices', 'label', 'tar'],\n",
       "      dtype='object')"
      ]
     },
     "execution_count": 44,
     "metadata": {},
     "output_type": "execute_result"
    }
   ],
   "source": [
    "df.columns"
   ]
  },
  {
   "cell_type": "code",
   "execution_count": 50,
   "metadata": {},
   "outputs": [
    {
     "data": {
      "text/plain": [
       "1    159090\n",
       "0     24171\n",
       "Name: tar, dtype: int64"
      ]
     },
     "execution_count": 50,
     "metadata": {},
     "output_type": "execute_result"
    }
   ],
   "source": [
    "df['tar'].value_counts()"
   ]
  },
  {
   "cell_type": "code",
   "execution_count": 51,
   "metadata": {},
   "outputs": [
    {
     "data": {
      "text/plain": [
       "level_0                                                                       0\n",
       "index                                                                         0\n",
       "Path                          CheXpert-v1.0-small/train/patient00001/study1/...\n",
       "Sex                                                                      Female\n",
       "Age                                                                          68\n",
       "Frontal/Lateral                                                         Frontal\n",
       "AP/PA                                                                        AP\n",
       "No Finding                                                                  1.0\n",
       "Enlarged Cardiomediastinum                                                 -2.0\n",
       "Cardiomegaly                                                               -2.0\n",
       "Lung Opacity                                                               -2.0\n",
       "Lung Lesion                                                                -2.0\n",
       "Edema                                                                      -2.0\n",
       "Consolidation                                                              -2.0\n",
       "Pneumonia                                                                  -2.0\n",
       "Atelectasis                                                                -2.0\n",
       "Pneumothorax                                                                0.0\n",
       "Pleural Effusion                                                           -2.0\n",
       "Pleural Other                                                              -2.0\n",
       "Fracture                                                                   -2.0\n",
       "Support Devices                                                             1.0\n",
       "label                                                                No Finding\n",
       "tar                                                                           0\n",
       "Name: 0, dtype: object"
      ]
     },
     "execution_count": 51,
     "metadata": {},
     "output_type": "execute_result"
    }
   ],
   "source": [
    "df.iloc[0]"
   ]
  },
  {
   "cell_type": "code",
   "execution_count": 58,
   "metadata": {},
   "outputs": [
    {
     "data": {
      "text/plain": [
       "(24171, 183260)"
      ]
     },
     "execution_count": 58,
     "metadata": {},
     "output_type": "execute_result"
    }
   ],
   "source": [
    "count=0\n",
    "for i in range(df.shape[0]):\n",
    "    if(df['tar'][i]==0):\n",
    "        nodf['path'][count]=df['Path'][i]\n",
    "        # nodf['target'][i]=0\n",
    "        count+=1\n",
    "    if(count==24171):\n",
    "        break\n",
    "count, i"
   ]
  },
  {
   "cell_type": "code",
   "execution_count": 80,
   "metadata": {},
   "outputs": [],
   "source": [
    "# i"
   ]
  },
  {
   "cell_type": "code",
   "execution_count": 54,
   "metadata": {},
   "outputs": [
    {
     "data": {
      "text/plain": [
       "0.000000e+00     24167\n",
       "6.546276e-316        2\n",
       "6.918623e-310        1\n",
       "9.554044e-319        1\n",
       "Name: target, dtype: int64"
      ]
     },
     "execution_count": 54,
     "metadata": {},
     "output_type": "execute_result"
    }
   ],
   "source": [
    "nodf['target'].value_counts()"
   ]
  },
  {
   "cell_type": "code",
   "execution_count": 59,
   "metadata": {},
   "outputs": [
    {
     "data": {
      "text/html": [
       "<div>\n",
       "<style scoped>\n",
       "    .dataframe tbody tr th:only-of-type {\n",
       "        vertical-align: middle;\n",
       "    }\n",
       "\n",
       "    .dataframe tbody tr th {\n",
       "        vertical-align: top;\n",
       "    }\n",
       "\n",
       "    .dataframe thead th {\n",
       "        text-align: right;\n",
       "    }\n",
       "</style>\n",
       "<table border=\"1\" class=\"dataframe\">\n",
       "  <thead>\n",
       "    <tr style=\"text-align: right;\">\n",
       "      <th></th>\n",
       "      <th>path</th>\n",
       "      <th>target</th>\n",
       "    </tr>\n",
       "  </thead>\n",
       "  <tbody>\n",
       "    <tr>\n",
       "      <th>0</th>\n",
       "      <td>CheXpert-v1.0-small/train/patient00001/study1/...</td>\n",
       "      <td>0.0</td>\n",
       "    </tr>\n",
       "    <tr>\n",
       "      <th>1</th>\n",
       "      <td>CheXpert-v1.0-small/train/patient00004/study1/...</td>\n",
       "      <td>0.0</td>\n",
       "    </tr>\n",
       "    <tr>\n",
       "      <th>2</th>\n",
       "      <td>CheXpert-v1.0-small/train/patient00005/study1/...</td>\n",
       "      <td>0.0</td>\n",
       "    </tr>\n",
       "    <tr>\n",
       "      <th>3</th>\n",
       "      <td>CheXpert-v1.0-small/train/patient00006/study1/...</td>\n",
       "      <td>0.0</td>\n",
       "    </tr>\n",
       "    <tr>\n",
       "      <th>4</th>\n",
       "      <td>CheXpert-v1.0-small/train/patient00010/study1/...</td>\n",
       "      <td>0.0</td>\n",
       "    </tr>\n",
       "  </tbody>\n",
       "</table>\n",
       "</div>"
      ],
      "text/plain": [
       "                                                path  target\n",
       "0  CheXpert-v1.0-small/train/patient00001/study1/...     0.0\n",
       "1  CheXpert-v1.0-small/train/patient00004/study1/...     0.0\n",
       "2  CheXpert-v1.0-small/train/patient00005/study1/...     0.0\n",
       "3  CheXpert-v1.0-small/train/patient00006/study1/...     0.0\n",
       "4  CheXpert-v1.0-small/train/patient00010/study1/...     0.0"
      ]
     },
     "execution_count": 59,
     "metadata": {},
     "output_type": "execute_result"
    }
   ],
   "source": [
    "nodf.head()"
   ]
  },
  {
   "cell_type": "code",
   "execution_count": 60,
   "metadata": {},
   "outputs": [],
   "source": [
    "path='/DATA/chowdari1/DATA/dataset/stanford'\n",
    "nodf.to_csv(path+'/our/chexpert_nofinding.csv')"
   ]
  },
  {
   "cell_type": "code",
   "execution_count": null,
   "metadata": {},
   "outputs": [],
   "source": []
  }
 ],
 "metadata": {
  "interpreter": {
   "hash": "916dbcbb3f70747c44a77c7bcd40155683ae19c65e1c03b4aa3499c5328201f1"
  },
  "kernelspec": {
   "display_name": "Python 3.7.3 64-bit",
   "language": "python",
   "name": "python3"
  },
  "language_info": {
   "codemirror_mode": {
    "name": "ipython",
    "version": 3
   },
   "file_extension": ".py",
   "mimetype": "text/x-python",
   "name": "python",
   "nbconvert_exporter": "python",
   "pygments_lexer": "ipython3",
   "version": "3.7.3"
  },
  "orig_nbformat": 4
 },
 "nbformat": 4,
 "nbformat_minor": 2
}
