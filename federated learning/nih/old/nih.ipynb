{
 "cells": [
  {
   "cell_type": "code",
   "execution_count": 1,
   "metadata": {
    "scrolled": true
   },
   "outputs": [
    {
     "name": "stdout",
     "output_type": "stream",
     "text": [
      "Mon Nov 29 12:13:00 2021       \n",
      "+-----------------------------------------------------------------------------+\n",
      "| NVIDIA-SMI 440.82       Driver Version: 440.82       CUDA Version: 10.2     |\n",
      "|-------------------------------+----------------------+----------------------+\n",
      "| GPU  Name        Persistence-M| Bus-Id        Disp.A | Volatile Uncorr. ECC |\n",
      "| Fan  Temp  Perf  Pwr:Usage/Cap|         Memory-Usage | GPU-Util  Compute M. |\n",
      "|===============================+======================+======================|\n",
      "|   0  GeForce GTX 108...  Off  | 00000000:04:00.0 Off |                  N/A |\n",
      "| 20%   24C    P8     7W / 250W |     10MiB / 11178MiB |      0%      Default |\n",
      "+-------------------------------+----------------------+----------------------+\n",
      "|   1  GeForce GTX 108...  Off  | 00000000:06:00.0 Off |                  N/A |\n",
      "| 20%   22C    P8     7W / 250W |    691MiB / 11178MiB |      0%      Default |\n",
      "+-------------------------------+----------------------+----------------------+\n",
      "|   2  GeForce GTX 108...  Off  | 00000000:07:00.0 Off |                  N/A |\n",
      "| 25%   24C    P8     7W / 250W |     10MiB / 11178MiB |      0%      Default |\n",
      "+-------------------------------+----------------------+----------------------+\n",
      "|   3  GeForce GTX 108...  Off  | 00000000:08:00.0 Off |                  N/A |\n",
      "| 20%   26C    P8     7W / 250W |   1953MiB / 11178MiB |      0%      Default |\n",
      "+-------------------------------+----------------------+----------------------+\n",
      "|   4  GeForce GTX 108...  Off  | 00000000:0C:00.0 Off |                  N/A |\n",
      "| 20%   23C    P8     7W / 250W |     10MiB / 11178MiB |      0%      Default |\n",
      "+-------------------------------+----------------------+----------------------+\n",
      "|   5  GeForce GTX 108...  Off  | 00000000:0D:00.0 Off |                  N/A |\n",
      "| 27%   24C    P8     7W / 250W |     10MiB / 11178MiB |      0%      Default |\n",
      "+-------------------------------+----------------------+----------------------+\n",
      "|   6  GeForce GTX 108...  Off  | 00000000:0E:00.0 Off |                  N/A |\n",
      "| 20%   28C    P8     7W / 250W |    691MiB / 11178MiB |      0%      Default |\n",
      "+-------------------------------+----------------------+----------------------+\n",
      "|   7  GeForce GTX 108...  Off  | 00000000:0F:00.0 Off |                  N/A |\n",
      "| 20%   28C    P8     7W / 250W |    639MiB / 11178MiB |      0%      Default |\n",
      "+-------------------------------+----------------------+----------------------+\n",
      "                                                                               \n",
      "+-----------------------------------------------------------------------------+\n",
      "| Processes:                                                       GPU Memory |\n",
      "|  GPU       PID   Type   Process name                             Usage      |\n",
      "|=============================================================================|\n",
      "|    1     39949      C   /bin/python3                                 681MiB |\n",
      "|    3     39949      C   /bin/python3                                1943MiB |\n",
      "|    6     39949      C   /bin/python3                                 681MiB |\n",
      "|    7     13439      C   python                                       629MiB |\n",
      "+-----------------------------------------------------------------------------+\n"
     ]
    }
   ],
   "source": [
    "gpu=7\n",
    "CUDA_VISIBLE_DEVICES=gpu\n",
    "!nvidia-smi"
   ]
  },
  {
   "cell_type": "code",
   "execution_count": 2,
   "metadata": {},
   "outputs": [],
   "source": [
    "import numpy as np\n",
    "import pandas as pd\n",
    "\n",
    "import torch\n",
    "import torchvision\n",
    "import torch.nn as nn\n",
    "import torch.optim as optim\n",
    "from torchvision import datasets, models, transforms\n",
    "from torch.utils.data.sampler import SubsetRandomSampler\n",
    "\n",
    "import matplotlib.pyplot as plt\n",
    "import time\n",
    "import copy\n",
    "from random import shuffle\n",
    "\n",
    "import tqdm.notebook as tqdm\n",
    "\n",
    "import sklearn\n",
    "from sklearn.metrics import accuracy_score, cohen_kappa_score\n",
    "from sklearn.metrics import classification_report\n",
    "from PIL import Image\n",
    "import cv2\n",
    "\n",
    "# import osa\n",
    "import shutil"
   ]
  },
  {
   "cell_type": "code",
   "execution_count": 3,
   "metadata": {},
   "outputs": [
    {
     "name": "stdout",
     "output_type": "stream",
     "text": [
      "True\n",
      "11721506816\n",
      "0\n"
     ]
    }
   ],
   "source": [
    "import seaborn as sns\n",
    "import os\n",
    "import copy\n",
    "import torch\n",
    "import torch.nn as nn\n",
    "import torch.nn.functional as F\n",
    "import torch.optim as optim\n",
    "from torch.utils.data import DataLoader\n",
    "import torchvision.datasets as datasets\n",
    "import torchvision.transforms as transforms\n",
    "import matplotlib.pyplot as plt\n",
    "import torchvision\n",
    "from glob import glob\n",
    "from sklearn.metrics import roc_curve,auc, precision_score,precision_recall_curve,recall_score,precision_recall_fscore_support,confusion_matrix\n",
    "import numpy as np\n",
    "from sklearn.model_selection import train_test_split\n",
    "from torchvision import models\n",
    "from prettytable import PrettyTable\n",
    "print(torch.cuda.is_available())\n",
    "import warnings\n",
    "warnings.filterwarnings(\"ignore\")\n",
    "# import pandas as pd\n",
    "print(torch.cuda.get_device_properties(0).total_memory)\n",
    "print(torch.cuda.memory_allocated())\n",
    "gpu_id = gpu"
   ]
  },
  {
   "cell_type": "code",
   "execution_count": 4,
   "metadata": {},
   "outputs": [],
   "source": [
    "train_df=pd.read_csv(\"/DATA/chowdari1/DATA/csv/nih_train.csv\")\n",
    "test_df=pd.read_csv(\"/DATA/chowdari1/DATA/csv/nih_test.csv\")"
   ]
  },
  {
   "cell_type": "code",
   "execution_count": 5,
   "metadata": {},
   "outputs": [],
   "source": [
    "train_df=train_df.iloc[:86500]\n",
    "train_df=train_df.sample(frac=1)"
   ]
  },
  {
   "cell_type": "code",
   "execution_count": 6,
   "metadata": {},
   "outputs": [
    {
     "data": {
      "text/html": [
       "<div>\n",
       "<style scoped>\n",
       "    .dataframe tbody tr th:only-of-type {\n",
       "        vertical-align: middle;\n",
       "    }\n",
       "\n",
       "    .dataframe tbody tr th {\n",
       "        vertical-align: top;\n",
       "    }\n",
       "\n",
       "    .dataframe thead th {\n",
       "        text-align: right;\n",
       "    }\n",
       "</style>\n",
       "<table border=\"1\" class=\"dataframe\">\n",
       "  <thead>\n",
       "    <tr style=\"text-align: right;\">\n",
       "      <th></th>\n",
       "      <th>Unnamed: 0</th>\n",
       "      <th>Image index</th>\n",
       "      <th>target</th>\n",
       "      <th>path</th>\n",
       "    </tr>\n",
       "  </thead>\n",
       "  <tbody>\n",
       "    <tr>\n",
       "      <th>81819</th>\n",
       "      <td>81819</td>\n",
       "      <td>00027594_000.png</td>\n",
       "      <td>1</td>\n",
       "      <td>/DATA/chowdari1/DATA/dataset/nih/images_011/im...</td>\n",
       "    </tr>\n",
       "    <tr>\n",
       "      <th>77243</th>\n",
       "      <td>77243</td>\n",
       "      <td>00025764_000.png</td>\n",
       "      <td>0</td>\n",
       "      <td>/DATA/chowdari1/DATA/dataset/nih/images_011/im...</td>\n",
       "    </tr>\n",
       "    <tr>\n",
       "      <th>76405</th>\n",
       "      <td>76405</td>\n",
       "      <td>00025457_004.png</td>\n",
       "      <td>1</td>\n",
       "      <td>/DATA/chowdari1/DATA/dataset/nih/images_011/im...</td>\n",
       "    </tr>\n",
       "    <tr>\n",
       "      <th>64715</th>\n",
       "      <td>64715</td>\n",
       "      <td>00020127_000.png</td>\n",
       "      <td>1</td>\n",
       "      <td>/DATA/chowdari1/DATA/dataset/nih/images_009/im...</td>\n",
       "    </tr>\n",
       "    <tr>\n",
       "      <th>59706</th>\n",
       "      <td>59706</td>\n",
       "      <td>00018512_000.png</td>\n",
       "      <td>0</td>\n",
       "      <td>/DATA/chowdari1/DATA/dataset/nih/images_009/im...</td>\n",
       "    </tr>\n",
       "  </tbody>\n",
       "</table>\n",
       "</div>"
      ],
      "text/plain": [
       "       Unnamed: 0       Image index  target  \\\n",
       "81819       81819  00027594_000.png       1   \n",
       "77243       77243  00025764_000.png       0   \n",
       "76405       76405  00025457_004.png       1   \n",
       "64715       64715  00020127_000.png       1   \n",
       "59706       59706  00018512_000.png       0   \n",
       "\n",
       "                                                    path  \n",
       "81819  /DATA/chowdari1/DATA/dataset/nih/images_011/im...  \n",
       "77243  /DATA/chowdari1/DATA/dataset/nih/images_011/im...  \n",
       "76405  /DATA/chowdari1/DATA/dataset/nih/images_011/im...  \n",
       "64715  /DATA/chowdari1/DATA/dataset/nih/images_009/im...  \n",
       "59706  /DATA/chowdari1/DATA/dataset/nih/images_009/im...  "
      ]
     },
     "execution_count": 6,
     "metadata": {},
     "output_type": "execute_result"
    }
   ],
   "source": [
    "train_df.head()"
   ]
  },
  {
   "cell_type": "code",
   "execution_count": 7,
   "metadata": {},
   "outputs": [
    {
     "data": {
      "text/plain": [
       "(86500, 4)"
      ]
     },
     "execution_count": 7,
     "metadata": {},
     "output_type": "execute_result"
    }
   ],
   "source": [
    "train_df.shape"
   ]
  },
  {
   "cell_type": "code",
   "execution_count": 8,
   "metadata": {},
   "outputs": [
    {
     "data": {
      "text/plain": [
       "0    50496\n",
       "1    36004\n",
       "Name: target, dtype: int64"
      ]
     },
     "execution_count": 8,
     "metadata": {},
     "output_type": "execute_result"
    }
   ],
   "source": [
    "train_df[\"target\"].value_counts()"
   ]
  },
  {
   "cell_type": "code",
   "execution_count": 9,
   "metadata": {},
   "outputs": [
    {
     "data": {
      "text/plain": [
       "1    15736\n",
       "0     9860\n",
       "Name: target, dtype: int64"
      ]
     },
     "execution_count": 9,
     "metadata": {},
     "output_type": "execute_result"
    }
   ],
   "source": [
    "test_df[\"target\"].value_counts()"
   ]
  },
  {
   "cell_type": "code",
   "execution_count": 10,
   "metadata": {},
   "outputs": [
    {
     "data": {
      "text/plain": [
       "<AxesSubplot:xlabel='target', ylabel='count'>"
      ]
     },
     "execution_count": 10,
     "metadata": {},
     "output_type": "execute_result"
    },
    {
     "data": {
      "image/png": "[encoded data removed]",
      "text/plain": [
       "<Figure size 432x288 with 1 Axes>"
      ]
     },
     "metadata": {},
     "output_type": "display_data"
    }
   ],
   "source": [
    "#Countplot\n",
    "sns.set_theme(style=\"darkgrid\")\n",
    "sns.countplot(x=\"target\", data=train_df.iloc[:70000])"
   ]
  },
  {
   "cell_type": "code",
   "execution_count": null,
   "metadata": {},
   "outputs": [],
   "source": []
  },
  {
   "cell_type": "code",
   "execution_count": 11,
   "metadata": {},
   "outputs": [],
   "source": [
    "from torch.utils.data import Dataset, DataLoader\n",
    "\n",
    "class CustomImageDataset(Dataset):\n",
    "    def __init__(self, df, img_dir, transform,start,count):\n",
    "        self.ipaths = df[\"path\"][start:count].to_numpy()\n",
    "        self.target=df[\"target\"][start:count].to_numpy()\n",
    "        self.transform = transform\n",
    "        self.count=count\n",
    "        self.img_dir=img_dir\n",
    "\n",
    "\n",
    "    def __len__(self):\n",
    "        return len(self.target)\n",
    "\n",
    "    def __getitem__(self, idx):\n",
    "        img_path=self.img_dir+self.ipaths[idx]\n",
    "        image = Image.open(img_path).convert('RGB')\n",
    "        label=self.target[idx]\n",
    "        image = self.transform(image)\n",
    "        return image,label"
   ]
  },
  {
   "cell_type": "code",
   "execution_count": 12,
   "metadata": {},
   "outputs": [],
   "source": [
    "normalizer=[[0.485, 0.456, 0.406], [0.229, 0.224, 0.225]]\n",
    "transformations = {\n",
    "\t\t'train': transforms.Compose([\n",
    "\t\t\ttransforms.Resize(256),\n",
    "\t\t\ttransforms.CenterCrop(224),\n",
    "\t\t\ttransforms.RandomHorizontalFlip(),\n",
    "\t\t\ttransforms.ColorJitter(brightness=0.25, contrast=0.25),\n",
    "\t\t\ttransforms.RandomAffine(15, translate=(0.1, 0.1), scale=(0.9, 1.1)),\n",
    "\t\t\ttransforms.ToTensor(),\n",
    "\t\t\ttransforms.Normalize(normalizer[0], normalizer[1])]),\n",
    "\t\t'val': transforms.Compose([\n",
    "\t\t\ttransforms.Resize(256),\n",
    "\t\t\ttransforms.CenterCrop(224),\n",
    "\t\t\ttransforms.ToTensor(),\n",
    "\t\t\ttransforms.Normalize(normalizer[0], normalizer[1])]),\n",
    "\t\t'test': transforms.Compose([\n",
    "\t\ttransforms.Resize(256),\n",
    "\t\ttransforms.CenterCrop(224),\n",
    "\t\ttransforms.ToTensor(),\n",
    "\t\ttransforms.Normalize(normalizer[0], normalizer[1])])\t\n",
    "\t\t\t}\n"
   ]
  },
  {
   "cell_type": "code",
   "execution_count": 13,
   "metadata": {},
   "outputs": [
    {
     "data": {
      "text/plain": [
       "0    25160\n",
       "1    18065\n",
       "Name: target, dtype: int64"
      ]
     },
     "execution_count": 13,
     "metadata": {},
     "output_type": "execute_result"
    }
   ],
   "source": [
    "train_df[\"target\"].iloc[:43225].value_counts()"
   ]
  },
  {
   "cell_type": "code",
   "execution_count": 14,
   "metadata": {},
   "outputs": [
    {
     "data": {
      "text/plain": [
       "0    25336\n",
       "1    17939\n",
       "Name: target, dtype: int64"
      ]
     },
     "execution_count": 14,
     "metadata": {},
     "output_type": "execute_result"
    }
   ],
   "source": [
    "train_df[\"target\"].iloc[43225:].value_counts()"
   ]
  },
  {
   "cell_type": "code",
   "execution_count": 15,
   "metadata": {},
   "outputs": [
    {
     "data": {
      "text/plain": [
       "0    50496\n",
       "1    36004\n",
       "Name: target, dtype: int64"
      ]
     },
     "execution_count": 15,
     "metadata": {},
     "output_type": "execute_result"
    }
   ],
   "source": [
    "train_df[\"target\"].value_counts()"
   ]
  },
  {
   "cell_type": "code",
   "execution_count": 16,
   "metadata": {},
   "outputs": [
    {
     "name": "stdout",
     "output_type": "stream",
     "text": [
      "43225\n",
      "25595\n",
      "<torch.utils.data.dataloader.DataLoader object at 0x7fadc58a7668>\n",
      "400\n"
     ]
    },
    {
     "data": {
      "text/plain": [
       "{'train': 43225, 'val': 43275, 'test': 25595}"
      ]
     },
     "execution_count": 16,
     "metadata": {},
     "output_type": "execute_result"
    }
   ],
   "source": [
    "train_data=CustomImageDataset(train_df,'',transformations[\"train\"],0,43225)\n",
    "valid_data=CustomImageDataset(train_df,'',transformations[\"val\"],43225,86500)\n",
    "test_data=CustomImageDataset(test_df,'',transformations[\"test\"],0,25595)\n",
    "print(len(train_data))\n",
    "print(len(test_data))\n",
    "trainloader=torch.utils.data.DataLoader(train_data, batch_size=64)\n",
    "valloader=torch.utils.data.DataLoader(valid_data, batch_size=64)\n",
    "testloader=torch.utils.data.DataLoader(test_data, batch_size=64)\n",
    "print(trainloader)\n",
    "print(len(testloader))\n",
    "dataloaders = {\"train\":trainloader, \"val\":valloader, \"test\": testloader}\n",
    "data_sizes = {x: len(dataloaders[x].sampler) for x in ['train','val','test']}\n",
    "data_sizes"
   ]
  },
  {
   "cell_type": "code",
   "execution_count": 17,
   "metadata": {},
   "outputs": [
    {
     "name": "stdout",
     "output_type": "stream",
     "text": [
      "Training on GPU... Ready for HyperJump...\n"
     ]
    }
   ],
   "source": [
    "import torch\n",
    "torch.cuda.empty_cache()\n",
    "device=torch.device(\"cuda:7\")\n",
    "print(\"Training on GPU... Ready for HyperJump...\")"
   ]
  },
  {
   "cell_type": "code",
   "execution_count": 18,
   "metadata": {},
   "outputs": [],
   "source": [
    "torch.cuda.set_device(gpu)"
   ]
  },
  {
   "cell_type": "code",
   "execution_count": 19,
   "metadata": {},
   "outputs": [],
   "source": [
    "def densenet_Model(pretrained=True):\n",
    "    model = models.densenet121(pretrained=pretrained) # Returns Defined Densenet model with weights trained on ImageNet\n",
    "    num_ftrs = model.classifier.in_features # Get the number of features output from CNN layer\n",
    "    model.classifier = nn.Linear(num_ftrs, 1) # Overwrites the Classifier layer with custom defined layer for transfer learning\n",
    "    model = model.to(device) # Transfer the Model to GPU if available\n",
    "    return model\n",
    "\n",
    "model = densenet_Model(pretrained=True)\n",
    "\n",
    "# specify loss function (categorical cross-entropy loss)\n",
    "criterion = nn.BCEWithLogitsLoss(reduction='mean').cuda()\n",
    "\n",
    "# Specify optimizer which performs Gradient Descent\n",
    "optimizer = optim.SGD(model.parameters(), lr=1e-3, weight_decay=0.0001, momentum=0.9)\t\t\n",
    "\n",
    "# Learning Scheduler\n",
    "exp_lr_scheduler = optim.lr_scheduler.ReduceLROnPlateau(optimizer, factor=0.1, patience = 5)\n",
    "\n"
   ]
  },
  {
   "cell_type": "code",
   "execution_count": 13,
   "metadata": {},
   "outputs": [
    {
     "name": "stdout",
     "output_type": "stream",
     "text": [
      "Number of trainable parameters: \n",
      "6954881\n"
     ]
    }
   ],
   "source": [
    "pytorch_total_params = sum(p.numel() for p in model.parameters() if p.requires_grad)\n",
    "print(\"Number of trainable parameters: \\n{}\".format(pytorch_total_params))"
   ]
  },
  {
   "cell_type": "code",
   "execution_count": 23,
   "metadata": {},
   "outputs": [],
   "source": [
    "from sklearn.metrics import roc_auc_score\n",
    "def epoch_train(model,optimizer, criterion):\n",
    "    model.train()\n",
    "    loss_train = 0\n",
    "    loss_train_norm = 0\n",
    "    loss_tensor_mean_train = 0\n",
    "    output_list = []\n",
    "    label_list = []\n",
    "    phase=\"train\"\n",
    "    for inputs, labels in tqdm.tqdm(dataloaders[phase], desc=phase, leave=False):\n",
    "        inputs = inputs.to(device, non_blocking=True)\n",
    "        # labels = labels.type(torch.FloatTensor) \n",
    "        labels = labels.to(device, non_blocking=True)\n",
    "        labels = labels.view(labels.size()[0],-1)\n",
    "\n",
    "        optimizer.zero_grad()\t\t\t\n",
    "        outputs = model(inputs)\n",
    "        # _, preds = torch.max(outputs.data, 1)\n",
    "        if isinstance(outputs, tuple):\n",
    "            outputs = outputs[0]\n",
    "            score = torch.sigmoid(outputs)\n",
    "        else:\n",
    "            score = torch.sigmoid(outputs)\n",
    "        preds = score>0.5\n",
    "        preds = preds.type(torch.cuda.LongTensor)\n",
    "        \n",
    "        labels = labels.type(torch.cuda.FloatTensor) #add for BCE loss\n",
    "        loss = criterion(outputs, labels)\n",
    "        loss_tensor_mean_train += loss\n",
    "\n",
    "        labels = labels.data.cpu().numpy()\n",
    "        outputs = outputs.data.cpu().numpy()\n",
    "\n",
    "        for i in range(outputs.shape[0]):\n",
    "            output_list.append(outputs[i].tolist())\n",
    "            label_list.append(labels[i].tolist())\n",
    "\n",
    "        loss_train_norm += 1\n",
    "        loss.backward()\n",
    "        optimizer.step()\n",
    "    loss_tensor_mean_train = np.float(loss_tensor_mean_train) / loss_train_norm\n",
    "    epoch_auc =  roc_auc_score(np.array(label_list), np.array(output_list))\n",
    "    output_list = []\n",
    "    label_list = []\n",
    "    return loss_tensor_mean_train, epoch_auc\n",
    "\n"
   ]
  },
  {
   "cell_type": "code",
   "execution_count": 24,
   "metadata": {},
   "outputs": [],
   "source": [
    "def epoch_val(model, criterion):\n",
    "    model.eval()\n",
    "    loss_val = 0\n",
    "    loss_val_norm = 0\n",
    "    loss_tensor_mean_val = 0\n",
    "    # running_corrects = 0\n",
    "    output_list = []\n",
    "    label_list = []\n",
    "    phase='val'\n",
    "    with torch.no_grad():\n",
    "        for inputs, labels in tqdm.tqdm(dataloaders[phase], desc=phase, leave=False):\n",
    "            labels = labels.type(torch.FloatTensor) #add for BCE loss\n",
    "            inputs = inputs.cuda(gpu_id, non_blocking=True)\n",
    "            labels = labels.cuda(gpu_id, non_blocking=True)\n",
    "            labels = labels.view(labels.size()[0],-1) #add for BCE loss\n",
    "\n",
    "            outputs = model(inputs)\n",
    "            loss_tensor = criterion(outputs, labels)\n",
    "            loss_tensor_mean_val += loss_tensor\n",
    "            \n",
    "            labels = labels.data.cpu().numpy()\n",
    "            outputs = outputs.data.cpu().numpy()\n",
    "\n",
    "            for i in range(outputs.shape[0]):\n",
    "                output_list.append(outputs[i].tolist())\n",
    "                label_list.append(labels[i].tolist())\n",
    "            loss_val_norm += 1\n",
    "    loss_tensor_mean_val = np.float(loss_tensor_mean_val) / loss_val_norm\n",
    "    epoch_auc =  roc_auc_score(np.array(label_list), np.array(output_list))\n",
    "    output_list = []\n",
    "    label_list = []\n",
    "    return loss_tensor_mean_val, epoch_auc\n",
    "\n",
    "    "
   ]
  },
  {
   "cell_type": "code",
   "execution_count": 25,
   "metadata": {},
   "outputs": [],
   "source": [
    "def train_model(model, criterion, optimizer, scheduler, num_epoch=10):\n",
    "    since = time.time()\n",
    "    best_model_wts = copy.deepcopy(model.state_dict())\n",
    "    loss_min = np.inf\n",
    "\n",
    "    for epoch in range(num_epoch):\n",
    "        print('Epoch {}/{}'.format(epoch+1, num_epoch))\n",
    "        print('-' * 10)\n",
    "\n",
    "        loss_train, auc_train = epoch_train(model, optimizer, criterion)\n",
    "        loss_val, auc_val=epoch_val(model,criterion)\n",
    "\n",
    "        scheduler.step(loss_val)\n",
    "        if loss_val < loss_min:\n",
    "            print('Val loss Decreased from {:.4f} to {:.4f} \\nSaving Weights... '.format(loss_min, loss_val))\n",
    "            loss_min=loss_val\n",
    "            best_model_wts = copy.deepcopy(model.state_dict())\n",
    "\n",
    "        print()\n",
    "\n",
    "        print ('*'*20)\t\n",
    "        print ('Train_AUC: {:.4f}     Train_loss: {:.4f}'\\\n",
    "            .format(auc_train, loss_train))\n",
    "        print ('  Val_AUC: {:.4f}     Val_loss: {:.4f}'\\\n",
    "            .format(auc_val, loss_val))\n",
    "        print ('\\n')\n",
    "    time_since = time.time() - since\n",
    "    print('Training complete in {:.0f}m {:.0f}s'.format(\n",
    "        time_since // 60, time_since % 60))\n",
    "    print('Best val loss: {:.4f}'.format(loss_min))\n",
    "\n",
    "    # Now we'll load in the best model weights and return it\n",
    "    model.load_state_dict(best_model_wts)\n",
    "    return model\n",
    "    \n",
    "        "
   ]
  },
  {
   "cell_type": "code",
   "execution_count": 20,
   "metadata": {},
   "outputs": [],
   "source": [
    "from PIL import ImageFile\n",
    "ImageFile.LOAD_TRUNCATED_IMAGES = True"
   ]
  },
  {
   "cell_type": "code",
   "execution_count": 21,
   "metadata": {},
   "outputs": [],
   "source": [
    "train_df=pd.DataFrame()\n",
    "test_df=pd.DataFrame()\n",
    "testloader=[]"
   ]
  },
  {
   "cell_type": "code",
   "execution_count": 22,
   "metadata": {},
   "outputs": [],
   "source": [
    "torch.cuda.empty_cache()"
   ]
  },
  {
   "cell_type": "code",
   "execution_count": 30,
   "metadata": {},
   "outputs": [
    {
     "name": "stdout",
     "output_type": "stream",
     "text": [
      "Epoch 1/1\n",
      "----------\n"
     ]
    },
    {
     "data": {
      "application/vnd.jupyter.widget-view+json": {
       "model_id": "13f2578aa1094968bff3d9add507e645",
       "version_major": 2,
       "version_minor": 0
      },
      "text/plain": [
       "HBox(children=(HTML(value='train'), FloatProgress(value=0.0, max=676.0), HTML(value='')))"
      ]
     },
     "metadata": {},
     "output_type": "display_data"
    },
    {
     "data": {
      "application/vnd.jupyter.widget-view+json": {
       "model_id": "ff8f288480494fd5b546204c6d18b1a9",
       "version_major": 2,
       "version_minor": 0
      },
      "text/plain": [
       "HBox(children=(HTML(value='val'), FloatProgress(value=0.0, max=677.0), HTML(value='')))"
      ]
     },
     "metadata": {},
     "output_type": "display_data"
    },
    {
     "name": "stdout",
     "output_type": "stream",
     "text": [
      "Val loss Decreased from inf to 0.5976 \n",
      "Saving Weights... \n",
      "\n",
      "********************\n",
      "Train_AUC: 0.6957     Train_loss: 0.6214\n",
      "  Val_AUC: 0.7317     Val_loss: 0.5976\n",
      "\n",
      "\n",
      "Training complete in 46m 39s\n",
      "Best val loss: 0.5976\n"
     ]
    }
   ],
   "source": [
    "base_model = train_model(model, criterion, optimizer, exp_lr_scheduler, num_epoch=1)"
   ]
  },
  {
   "cell_type": "code",
   "execution_count": 31,
   "metadata": {},
   "outputs": [],
   "source": [
    "path=\"/DATA/chowdari1/saved_models/nih_gold(1epoch).pth\"\n",
    "torch.save(base_model.state_dict(), path)"
   ]
  },
  {
   "cell_type": "code",
   "execution_count": 2,
   "metadata": {},
   "outputs": [
    {
     "name": "stdout",
     "output_type": "stream",
     "text": [
      "Fri Nov 19 02:22:07 2021       \n",
      "+-----------------------------------------------------------------------------+\n",
      "| NVIDIA-SMI 440.82       Driver Version: 440.82       CUDA Version: 10.2     |\n",
      "|-------------------------------+----------------------+----------------------+\n",
      "| GPU  Name        Persistence-M| Bus-Id        Disp.A | Volatile Uncorr. ECC |\n",
      "| Fan  Temp  Perf  Pwr:Usage/Cap|         Memory-Usage | GPU-Util  Compute M. |\n",
      "|===============================+======================+======================|\n",
      "|   0  GeForce GTX 108...  Off  | 00000000:04:00.0 Off |                  N/A |\n",
      "| 42%   74C    P2   238W / 250W |  10797MiB / 11178MiB |     85%      Default |\n",
      "+-------------------------------+----------------------+----------------------+\n",
      "|   1  GeForce GTX 108...  Off  | 00000000:06:00.0 Off |                  N/A |\n",
      "| 20%   52C    P2    58W / 250W |  11170MiB / 11178MiB |      0%      Default |\n",
      "+-------------------------------+----------------------+----------------------+\n",
      "|   2  GeForce GTX 108...  Off  | 00000000:07:00.0 Off |                  N/A |\n",
      "| 46%   77C    P2   245W / 250W |  10661MiB / 11178MiB |     74%      Default |\n",
      "+-------------------------------+----------------------+----------------------+\n",
      "|   3  GeForce GTX 108...  Off  | 00000000:08:00.0 Off |                  N/A |\n",
      "| 56%   83C    P2   217W / 250W |   7102MiB / 11178MiB |    100%      Default |\n",
      "+-------------------------------+----------------------+----------------------+\n",
      "|   4  GeForce GTX 108...  Off  | 00000000:0C:00.0 Off |                  N/A |\n",
      "| 43%   75C    P2   238W / 250W |  10831MiB / 11178MiB |     66%      Default |\n",
      "+-------------------------------+----------------------+----------------------+\n",
      "|   5  GeForce GTX 108...  Off  | 00000000:0D:00.0 Off |                  N/A |\n",
      "| 34%   67C    P2   192W / 250W |  10839MiB / 11178MiB |     93%      Default |\n",
      "+-------------------------------+----------------------+----------------------+\n",
      "|   6  GeForce GTX 108...  Off  | 00000000:0E:00.0 Off |                  N/A |\n",
      "| 53%   82C    P2   196W / 250W |   9871MiB / 11178MiB |     96%      Default |\n",
      "+-------------------------------+----------------------+----------------------+\n",
      "|   7  GeForce GTX 108...  Off  | 00000000:0F:00.0 Off |                  N/A |\n",
      "| 56%   84C    P2   209W / 250W |   3339MiB / 11178MiB |    100%      Default |\n",
      "+-------------------------------+----------------------+----------------------+\n",
      "                                                                               \n",
      "+-----------------------------------------------------------------------------+\n",
      "| Processes:                                                       GPU Memory |\n",
      "|  GPU       PID   Type   Process name                             Usage      |\n",
      "|=============================================================================|\n",
      "|    0     27447      C   python3                                    10787MiB |\n",
      "|    1      1447      C   python3                                     3011MiB |\n",
      "|    1      2078      C   python3                                     1519MiB |\n",
      "|    1      6335      C   python3                                     1025MiB |\n",
      "|    1     21398      C   python                                      2719MiB |\n",
      "|    1     22648      C   python3                                     2549MiB |\n",
      "|    1     30292      C   /bin/python3                                 337MiB |\n",
      "|    2     27375      C   python3                                    10651MiB |\n",
      "|    3     27836      C   /DATA/chaudhary11/miniconda3/bin/python     4817MiB |\n",
      "|    3     30562      C   /DATA/chaudhary11/miniconda3/bin/python     2275MiB |\n",
      "|    4     27375      C   python3                                    10821MiB |\n",
      "|    5     27447      C   python3                                    10829MiB |\n",
      "|    6      9132      C   python3                                     4065MiB |\n",
      "|    6     30292      C   /bin/python3                                 731MiB |\n",
      "|    6     30478      C   python3                                     5065MiB |\n",
      "|    7     22302      C   /DATA/chaudhary11/miniconda3/bin/python     3329MiB |\n",
      "+-----------------------------------------------------------------------------+\n"
     ]
    }
   ],
   "source": [
    "!nvidia-smi"
   ]
  },
  {
   "cell_type": "code",
   "execution_count": 1,
   "metadata": {},
   "outputs": [],
   "source": [
    "# import torch\n",
    "# path=\"/DATA/chowdari1/saved_models/nih_gold(100epoch).pth\"\n",
    "# base_model=densenet_Model(pretrained=True)\n",
    "# x=torch.load(path,map_location='cpu')\n",
    "# base_model.load_state_dict(x)\n",
    "# base_model.to(device)"
   ]
  },
  {
   "cell_type": "code",
   "execution_count": null,
   "metadata": {},
   "outputs": [],
   "source": []
  }
 ],
 "metadata": {
  "interpreter": {
   "hash": "916dbcbb3f70747c44a77c7bcd40155683ae19c65e1c03b4aa3499c5328201f1"
  },
  "kernelspec": {
   "display_name": "Python 3 (ipykernel)",
   "language": "python",
   "name": "python3"
  },
  "language_info": {
   "codemirror_mode": {
    "name": "ipython",
    "version": 3
   },
   "file_extension": ".py",
   "mimetype": "text/x-python",
   "name": "python",
   "nbconvert_exporter": "python",
   "pygments_lexer": "ipython3",
   "version": "3.7.3"
  }
 },
 "nbformat": 4,
 "nbformat_minor": 2
}
