{
 "cells": [
  {
   "cell_type": "code",
   "execution_count": 2,
   "metadata": {},
   "outputs": [
    {
     "name": "stdout",
     "output_type": "stream",
     "text": [
      "Thu Nov 18 07:11:07 2021       \n",
      "+-----------------------------------------------------------------------------+\n",
      "| NVIDIA-SMI 440.82       Driver Version: 440.82       CUDA Version: 10.2     |\n",
      "|-------------------------------+----------------------+----------------------+\n",
      "| GPU  Name        Persistence-M| Bus-Id        Disp.A | Volatile Uncorr. ECC |\n",
      "| Fan  Temp  Perf  Pwr:Usage/Cap|         Memory-Usage | GPU-Util  Compute M. |\n",
      "|===============================+======================+======================|\n",
      "|   0  GeForce GTX 108...  Off  | 00000000:04:00.0 Off |                  N/A |\n",
      "| 40%   69C    P2    66W / 250W |  10797MiB / 11178MiB |      0%      Default |\n",
      "+-------------------------------+----------------------+----------------------+\n",
      "|   1  GeForce GTX 108...  Off  | 00000000:06:00.0 Off |                  N/A |\n",
      "| 25%   58C    P2    74W / 250W |   9949MiB / 11178MiB |      0%      Default |\n",
      "+-------------------------------+----------------------+----------------------+\n",
      "|   2  GeForce GTX 108...  Off  | 00000000:07:00.0 Off |                  N/A |\n",
      "| 41%   74C    P2   236W / 250W |  10661MiB / 11178MiB |     77%      Default |\n",
      "+-------------------------------+----------------------+----------------------+\n",
      "|   3  GeForce GTX 108...  Off  | 00000000:08:00.0 Off |                  N/A |\n",
      "| 20%   29C    P8     7W / 250W |   2853MiB / 11178MiB |      0%      Default |\n",
      "+-------------------------------+----------------------+----------------------+\n",
      "|   4  GeForce GTX 108...  Off  | 00000000:0C:00.0 Off |                  N/A |\n",
      "| 39%   72C    P2   211W / 250W |  10831MiB / 11178MiB |     98%      Default |\n",
      "+-------------------------------+----------------------+----------------------+\n",
      "|   5  GeForce GTX 108...  Off  | 00000000:0D:00.0 Off |                  N/A |\n",
      "| 33%   63C    P2    60W / 250W |  10839MiB / 11178MiB |      0%      Default |\n",
      "+-------------------------------+----------------------+----------------------+\n",
      "|   6  GeForce GTX 108...  Off  | 00000000:0E:00.0 Off |                  N/A |\n",
      "| 20%   26C    P8     7W / 250W |     10MiB / 11178MiB |      0%      Default |\n",
      "+-------------------------------+----------------------+----------------------+\n",
      "|   7  GeForce GTX 108...  Off  | 00000000:0F:00.0 Off |                  N/A |\n",
      "| 20%   29C    P8     7W / 250W |   2437MiB / 11178MiB |      0%      Default |\n",
      "+-------------------------------+----------------------+----------------------+\n",
      "                                                                               \n",
      "+-----------------------------------------------------------------------------+\n",
      "| Processes:                                                       GPU Memory |\n",
      "|  GPU       PID   Type   Process name                             Usage      |\n",
      "|=============================================================================|\n",
      "|    0     27447      C   python3                                    10787MiB |\n",
      "|    1     18853      C   python3                                     9939MiB |\n",
      "|    2     27375      C   python3                                    10651MiB |\n",
      "|    3     29575      C   /DATA/chaudhary11/miniconda3/bin/python     2843MiB |\n",
      "|    4     27375      C   python3                                    10821MiB |\n",
      "|    5     27447      C   python3                                    10829MiB |\n",
      "|    7     33129      C   /DATA/chaudhary11/miniconda3/bin/python     2427MiB |\n",
      "+-----------------------------------------------------------------------------+\n"
     ]
    }
   ],
   "source": [
    "gpu=6\n",
    "CUDA_VISIBLE_DEVICES=gpu\n",
    "!nvidia-smi"
   ]
  },
  {
   "cell_type": "code",
   "execution_count": 3,
   "metadata": {},
   "outputs": [],
   "source": [
    "import numpy as np\n",
    "import pandas as pd\n",
    "\n",
    "import torch\n",
    "import torchvision\n",
    "import torch.nn as nn\n",
    "import torch.optim as optim\n",
    "from torchvision import datasets, models, transforms\n",
    "from torch.utils.data.sampler import SubsetRandomSampler\n",
    "\n",
    "import matplotlib.pyplot as plt\n",
    "import time\n",
    "import copy\n",
    "from random import shuffle\n",
    "\n",
    "import tqdm.notebook as tqdm\n",
    "\n",
    "import sklearn\n",
    "from sklearn.metrics import accuracy_score, cohen_kappa_score\n",
    "from sklearn.metrics import classification_report\n",
    "from PIL import Image\n",
    "import cv2\n",
    "\n",
    "# import osa\n",
    "import shutil"
   ]
  },
  {
   "cell_type": "code",
   "execution_count": 4,
   "metadata": {},
   "outputs": [
    {
     "name": "stdout",
     "output_type": "stream",
     "text": [
      "True\n",
      "11721506816\n",
      "0\n"
     ]
    }
   ],
   "source": [
    "import seaborn as sns\n",
    "import os\n",
    "import copy\n",
    "import torch\n",
    "import torch.nn as nn\n",
    "import torch.nn.functional as F\n",
    "import torch.optim as optim\n",
    "from torch.utils.data import DataLoader\n",
    "import torchvision.datasets as datasets\n",
    "import torchvision.transforms as transforms\n",
    "import matplotlib.pyplot as plt\n",
    "import torchvision\n",
    "from glob import glob\n",
    "from sklearn.metrics import roc_curve,auc, precision_score,precision_recall_curve,recall_score,precision_recall_fscore_support,confusion_matrix\n",
    "import numpy as np\n",
    "from sklearn.model_selection import train_test_split\n",
    "from torchvision import models\n",
    "from prettytable import PrettyTable\n",
    "print(torch.cuda.is_available())\n",
    "import warnings\n",
    "warnings.filterwarnings(\"ignore\")\n",
    "# import pandas as pd\n",
    "print(torch.cuda.get_device_properties(0).total_memory)\n",
    "print(torch.cuda.memory_allocated())\n",
    "gpu_id = gpu"
   ]
  },
  {
   "cell_type": "code",
   "execution_count": 5,
   "metadata": {},
   "outputs": [],
   "source": [
    "df=pd.read_csv('/DATA/chowdari1/DATA/csv/mana_great_all_stanford.csv')"
   ]
  },
  {
   "cell_type": "code",
   "execution_count": 6,
   "metadata": {},
   "outputs": [
    {
     "data": {
      "text/html": [
       "<div>\n",
       "<style scoped>\n",
       "    .dataframe tbody tr th:only-of-type {\n",
       "        vertical-align: middle;\n",
       "    }\n",
       "\n",
       "    .dataframe tbody tr th {\n",
       "        vertical-align: top;\n",
       "    }\n",
       "\n",
       "    .dataframe thead th {\n",
       "        text-align: right;\n",
       "    }\n",
       "</style>\n",
       "<table border=\"1\" class=\"dataframe\">\n",
       "  <thead>\n",
       "    <tr style=\"text-align: right;\">\n",
       "      <th></th>\n",
       "      <th>Unnamed: 0</th>\n",
       "      <th>target</th>\n",
       "      <th>path</th>\n",
       "    </tr>\n",
       "  </thead>\n",
       "  <tbody>\n",
       "    <tr>\n",
       "      <th>0</th>\n",
       "      <td>0</td>\n",
       "      <td>0</td>\n",
       "      <td>CheXpert-v1.0-small/train/patient00001/study1/...</td>\n",
       "    </tr>\n",
       "    <tr>\n",
       "      <th>1</th>\n",
       "      <td>1</td>\n",
       "      <td>1</td>\n",
       "      <td>CheXpert-v1.0-small/train/patient00002/study2/...</td>\n",
       "    </tr>\n",
       "    <tr>\n",
       "      <th>2</th>\n",
       "      <td>2</td>\n",
       "      <td>1</td>\n",
       "      <td>CheXpert-v1.0-small/train/patient00002/study1/...</td>\n",
       "    </tr>\n",
       "    <tr>\n",
       "      <th>3</th>\n",
       "      <td>3</td>\n",
       "      <td>1</td>\n",
       "      <td>CheXpert-v1.0-small/train/patient00002/study1/...</td>\n",
       "    </tr>\n",
       "    <tr>\n",
       "      <th>4</th>\n",
       "      <td>4</td>\n",
       "      <td>1</td>\n",
       "      <td>CheXpert-v1.0-small/train/patient00003/study1/...</td>\n",
       "    </tr>\n",
       "  </tbody>\n",
       "</table>\n",
       "</div>"
      ],
      "text/plain": [
       "   Unnamed: 0  target                                               path\n",
       "0           0       0  CheXpert-v1.0-small/train/patient00001/study1/...\n",
       "1           1       1  CheXpert-v1.0-small/train/patient00002/study2/...\n",
       "2           2       1  CheXpert-v1.0-small/train/patient00002/study1/...\n",
       "3           3       1  CheXpert-v1.0-small/train/patient00002/study1/...\n",
       "4           4       1  CheXpert-v1.0-small/train/patient00003/study1/..."
      ]
     },
     "execution_count": 6,
     "metadata": {},
     "output_type": "execute_result"
    }
   ],
   "source": [
    "df.head()"
   ]
  },
  {
   "cell_type": "code",
   "execution_count": 7,
   "metadata": {},
   "outputs": [
    {
     "data": {
      "text/plain": [
       "(64088, 3)"
      ]
     },
     "execution_count": 7,
     "metadata": {},
     "output_type": "execute_result"
    }
   ],
   "source": [
    "df.shape"
   ]
  },
  {
   "cell_type": "code",
   "execution_count": 8,
   "metadata": {},
   "outputs": [
    {
     "data": {
      "text/plain": [
       "1    32810\n",
       "0    31278\n",
       "Name: target, dtype: int64"
      ]
     },
     "execution_count": 8,
     "metadata": {},
     "output_type": "execute_result"
    }
   ],
   "source": [
    "df[\"target\"].value_counts()"
   ]
  },
  {
   "cell_type": "code",
   "execution_count": 10,
   "metadata": {},
   "outputs": [],
   "source": [
    "df=df.sample(frac=1)"
   ]
  },
  {
   "cell_type": "code",
   "execution_count": 16,
   "metadata": {},
   "outputs": [
    {
     "data": {
      "text/plain": [
       "<AxesSubplot:xlabel='target', ylabel='count'>"
      ]
     },
     "execution_count": 16,
     "metadata": {},
     "output_type": "execute_result"
    },
    {
     "data": {
      "image/png": "[encoded data removed]",
      "text/plain": [
       "<Figure size 432x288 with 1 Axes>"
      ]
     },
     "metadata": {},
     "output_type": "display_data"
    }
   ],
   "source": [
    "#Countplot\n",
    "sns.set_theme(style=\"darkgrid\")\n",
    "sns.countplot(x=\"target\", data=df.iloc[:28500])"
   ]
  },
  {
   "cell_type": "code",
   "execution_count": 11,
   "metadata": {},
   "outputs": [
    {
     "data": {
      "text/plain": [
       "<AxesSubplot:xlabel='target', ylabel='count'>"
      ]
     },
     "execution_count": 11,
     "metadata": {},
     "output_type": "execute_result"
    },
    {
     "data": {
      "image/png": "[encoded data removed]",
      "text/plain": [
       "<Figure size 432x288 with 1 Axes>"
      ]
     },
     "metadata": {},
     "output_type": "display_data"
    }
   ],
   "source": [
    "#Countplot\n",
    "sns.set_theme(style=\"darkgrid\")\n",
    "sns.countplot(x=\"target\", data=df.iloc[28500:57000])"
   ]
  },
  {
   "cell_type": "code",
   "execution_count": null,
   "metadata": {},
   "outputs": [],
   "source": []
  },
  {
   "cell_type": "code",
   "execution_count": 12,
   "metadata": {},
   "outputs": [],
   "source": [
    "from torch.utils.data import Dataset, DataLoader\n",
    "\n",
    "class CustomImageDataset(Dataset):\n",
    "    def __init__(self, df, img_dir, transform,start,count):\n",
    "        self.ipaths = df[\"path\"][start:count].to_numpy()\n",
    "        self.target=df[\"target\"][start:count].to_numpy()\n",
    "        self.transform = transform\n",
    "        self.count=count\n",
    "        self.img_dir=img_dir\n",
    "\n",
    "\n",
    "    def __len__(self):\n",
    "        return len(self.target)\n",
    "\n",
    "    def __getitem__(self, idx):\n",
    "        img_path=self.img_dir+self.ipaths[idx]\n",
    "        image = Image.open(img_path).convert('RGB')\n",
    "        label=self.target[idx]\n",
    "        image = self.transform(image)\n",
    "        return image, label"
   ]
  },
  {
   "cell_type": "code",
   "execution_count": 13,
   "metadata": {},
   "outputs": [],
   "source": [
    "normalizer=[[0.485, 0.456, 0.406], [0.229, 0.224, 0.225]]\n",
    "transformations = {\n",
    "\t\t'train': transforms.Compose([\n",
    "\t\t\ttransforms.Resize(256),\n",
    "\t\t\ttransforms.CenterCrop(224),\n",
    "\t\t\ttransforms.RandomHorizontalFlip(),\n",
    "\t\t\ttransforms.ColorJitter(brightness=0.25, contrast=0.25),\n",
    "\t\t\ttransforms.RandomAffine(15, translate=(0.1, 0.1), scale=(0.9, 1.1)),\n",
    "\t\t\ttransforms.ToTensor(),\n",
    "\t\t\ttransforms.Normalize(normalizer[0], normalizer[1])]),\n",
    "\t\t'val': transforms.Compose([\n",
    "\t\t\ttransforms.Resize(256),\n",
    "\t\t\ttransforms.CenterCrop(224),\n",
    "\t\t\ttransforms.ToTensor(),\n",
    "\t\t\ttransforms.Normalize(normalizer[0], normalizer[1])]),\n",
    "\t\t'test': transforms.Compose([\n",
    "\t\ttransforms.Resize(256),\n",
    "\t\ttransforms.CenterCrop(224),\n",
    "\t\ttransforms.ToTensor(),\n",
    "\t\ttransforms.Normalize(normalizer[0], normalizer[1])])\t\n",
    "\t\t\t}\n"
   ]
  },
  {
   "cell_type": "code",
   "execution_count": 14,
   "metadata": {},
   "outputs": [
    {
     "name": "stdout",
     "output_type": "stream",
     "text": [
      "28500\n",
      "7088\n",
      "<torch.utils.data.dataloader.DataLoader object at 0x7f8ef3d7e278>\n",
      "111\n"
     ]
    },
    {
     "data": {
      "text/plain": [
       "{'train': 28500, 'val': 28500, 'test': 7088}"
      ]
     },
     "execution_count": 14,
     "metadata": {},
     "output_type": "execute_result"
    }
   ],
   "source": [
    "train_data=CustomImageDataset(df,'/DATA/chowdari1/DATA/dataset/stanford/',transformations[\"train\"],0,28500)\n",
    "valid_data=CustomImageDataset(df,'/DATA/chowdari1/DATA/dataset/stanford/',transformations[\"val\"],28500,57000)\n",
    "test_data=CustomImageDataset(df,'/DATA/chowdari1/DATA/dataset/stanford/',transformations[\"test\"],57000,64088)\n",
    "print(len(train_data))\n",
    "print(len(test_data))\n",
    "trainloader=torch.utils.data.DataLoader(train_data, batch_size=64)\n",
    "valloader=torch.utils.data.DataLoader(valid_data, batch_size=64)\n",
    "testloader=torch.utils.data.DataLoader(test_data, batch_size=64)\n",
    "print(trainloader)\n",
    "print(len(testloader))\n",
    "dataloaders = {\"train\":trainloader, \"val\":valloader, \"test\": testloader}\n",
    "\n",
    "data_sizes = {x: len(dataloaders[x].sampler) for x in ['train','val','test']}\n",
    "data_sizes"
   ]
  },
  {
   "cell_type": "code",
   "execution_count": 15,
   "metadata": {},
   "outputs": [
    {
     "name": "stdout",
     "output_type": "stream",
     "text": [
      "Training on GPU... Ready for HyperJump...\n"
     ]
    }
   ],
   "source": [
    "import torch\n",
    "torch.cuda.empty_cache()\n",
    "device=torch.device(\"cuda:6\")\n",
    "print(\"Training on GPU... Ready for HyperJump...\")"
   ]
  },
  {
   "cell_type": "code",
   "execution_count": 16,
   "metadata": {},
   "outputs": [],
   "source": [
    "torch.cuda.set_device(gpu)"
   ]
  },
  {
   "cell_type": "code",
   "execution_count": 17,
   "metadata": {},
   "outputs": [],
   "source": [
    "def densenet_Model(pretrained=True):\n",
    "    model = models.densenet121(pretrained=pretrained) # Returns Defined Densenet model with weights trained on ImageNet\n",
    "    num_ftrs = model.classifier.in_features # Get the number of features output from CNN layer\n",
    "    model.classifier = nn.Linear(num_ftrs, 1) # Overwrites the Classifier layer with custom defined layer for transfer learning\n",
    "    model = model.to(device) # Transfer the Model to GPU if available\n",
    "    return model\n",
    "\n",
    "model = densenet_Model(pretrained=True)\n",
    "\n",
    "# specify loss function (categorical cross-entropy loss)\n",
    "criterion = nn.BCEWithLogitsLoss(reduction='mean').cuda()\n",
    "\n",
    "# Specify optimizer which performs Gradient Descent\n",
    "optimizer = optim.SGD(model.parameters(), lr=1e-3, weight_decay=0.0001, momentum=0.9)\t\t\n",
    "\n",
    "# Learning Scheduler\n",
    "exp_lr_scheduler = optim.lr_scheduler.ReduceLROnPlateau(optimizer, factor=0.1, patience = 5)"
   ]
  },
  {
   "cell_type": "code",
   "execution_count": 18,
   "metadata": {},
   "outputs": [
    {
     "name": "stdout",
     "output_type": "stream",
     "text": [
      "Number of trainable parameters: \n",
      "6954881\n"
     ]
    }
   ],
   "source": [
    "pytorch_total_params = sum(p.numel() for p in model.parameters() if p.requires_grad)\n",
    "print(\"Number of trainable parameters: \\n{}\".format(pytorch_total_params))"
   ]
  },
  {
   "cell_type": "code",
   "execution_count": 26,
   "metadata": {},
   "outputs": [],
   "source": [
    "from sklearn.metrics import roc_auc_score\n",
    "def epoch_train(model,optimizer, criterion):\n",
    "    model.train()\n",
    "    loss_train = 0\n",
    "    loss_train_norm = 0\n",
    "    loss_tensor_mean_train = 0\n",
    "    output_list = []\n",
    "    label_list = []\n",
    "    phase=\"train\"\n",
    "    for inputs, labels in tqdm.tqdm(dataloaders[phase], desc=phase, leave=False):\n",
    "        inputs = inputs.to(device, non_blocking=True) \n",
    "        labels = labels.to(device, non_blocking=True)\n",
    "        labels = labels.view(labels.size()[0],-1)\n",
    "\n",
    "        optimizer.zero_grad()\t\t\t\n",
    "        outputs = model(inputs)\n",
    "        if isinstance(outputs, tuple):\n",
    "            outputs = outputs[0]\n",
    "            score = torch.sigmoid(outputs)\n",
    "        else:\n",
    "            score = torch.sigmoid(outputs)\n",
    "        preds = score>0.5\n",
    "        preds = preds.type(torch.cuda.LongTensor)\n",
    "        \n",
    "        labels = labels.type(torch.cuda.FloatTensor) #add for BCE loss\n",
    "        loss = criterion(outputs, labels)\n",
    "        loss_tensor_mean_train += loss\n",
    "\n",
    "        labels = labels.data.cpu().numpy()\n",
    "        outputs = outputs.data.cpu().numpy()\n",
    "\n",
    "        for i in range(outputs.shape[0]):\n",
    "            output_list.append(outputs[i].tolist())\n",
    "            label_list.append(labels[i].tolist())\n",
    "\n",
    "        loss_train_norm += 1\n",
    "        loss.backward()\n",
    "        optimizer.step()\n",
    "    loss_tensor_mean_train = np.float(loss_tensor_mean_train) / loss_train_norm\n",
    "    epoch_auc =  roc_auc_score(np.array(label_list), np.array(output_list))\n",
    "    output_list = []\n",
    "    label_list = []\n",
    "    return loss_tensor_mean_train, epoch_auc\n",
    "\n"
   ]
  },
  {
   "cell_type": "code",
   "execution_count": 27,
   "metadata": {},
   "outputs": [],
   "source": [
    "def epoch_val(model, criterion):\n",
    "    model.eval()\n",
    "    loss_val = 0\n",
    "    loss_val_norm = 0\n",
    "    loss_tensor_mean_val = 0\n",
    "    # running_corrects = 0\n",
    "    output_list = []\n",
    "    label_list = []\n",
    "    phase='val'\n",
    "    with torch.no_grad():\n",
    "        for inputs, labels in tqdm.tqdm(dataloaders[phase], desc=phase, leave=False):\n",
    "            labels = labels.type(torch.FloatTensor) #add for BCE loss\n",
    "            inputs = inputs.cuda(gpu_id, non_blocking=True)\n",
    "            labels = labels.cuda(gpu_id, non_blocking=True)\n",
    "            labels = labels.view(labels.size()[0],-1) #add for BCE loss\n",
    "\n",
    "            outputs = model(inputs)\n",
    "            loss_tensor = criterion(outputs, labels)\n",
    "            loss_tensor_mean_val += loss_tensor\n",
    "            \n",
    "            labels = labels.data.cpu().numpy()\n",
    "            outputs = outputs.data.cpu().numpy()\n",
    "\n",
    "            for i in range(outputs.shape[0]):\n",
    "                output_list.append(outputs[i].tolist())\n",
    "                label_list.append(labels[i].tolist())\n",
    "            loss_val_norm += 1\n",
    "    loss_tensor_mean_val = np.float(loss_tensor_mean_val) / loss_val_norm\n",
    "    epoch_auc =  roc_auc_score(np.array(label_list), np.array(output_list))\n",
    "    output_list = []\n",
    "    label_list = []\n",
    "    return loss_tensor_mean_val, epoch_auc\n",
    "\n",
    "    "
   ]
  },
  {
   "cell_type": "code",
   "execution_count": 28,
   "metadata": {},
   "outputs": [],
   "source": [
    "def train_model(model, criterion, optimizer, scheduler, num_epoch=10):\n",
    "    since = time.time()\n",
    "    best_model_wts = copy.deepcopy(model.state_dict())\n",
    "    loss_min = np.inf\n",
    "\n",
    "    for epoch in range(num_epoch):\n",
    "        print('Epoch {}/{}'.format(epoch+1, num_epoch))\n",
    "        print('-' * 10)\n",
    "\n",
    "        loss_train, auc_train = epoch_train(model, optimizer, criterion)\n",
    "        loss_val, auc_val=epoch_val(model,criterion)\n",
    "\n",
    "        scheduler.step(loss_val)\n",
    "        if loss_val < loss_min:\n",
    "            print('Val loss Decreased from {:.4f} to {:.4f} \\nSaving Weights... '.format(loss_min, loss_val))\n",
    "            loss_min=loss_val\n",
    "            best_model_wts = copy.deepcopy(model.state_dict())\n",
    "\n",
    "        print()\n",
    "\n",
    "        print ('*'*20)\t\n",
    "        print ('Train_AUC: {:.4f}     Train_loss: {:.4f}'\\\n",
    "            .format(auc_train, loss_train))\n",
    "        print ('  Val_AUC: {:.4f}     Val_loss: {:.4f}'\\\n",
    "            .format(auc_val, loss_val))\n",
    "        print ('\\n')\n",
    "    time_since = time.time() - since\n",
    "    print('Training complete in {:.0f}m {:.0f}s'.format(\n",
    "        time_since // 60, time_since % 60))\n",
    "    print('Best val loss: {:.4f}'.format(loss_min))\n",
    "\n",
    "    # Now we'll load in the best model weights and return it\n",
    "    model.load_state_dict(best_model_wts)\n",
    "    return model\n",
    "    \n",
    "        "
   ]
  },
  {
   "cell_type": "code",
   "execution_count": 19,
   "metadata": {},
   "outputs": [],
   "source": [
    "from PIL import ImageFile\n",
    "ImageFile.LOAD_TRUNCATED_IMAGES = True"
   ]
  },
  {
   "cell_type": "code",
   "execution_count": 20,
   "metadata": {},
   "outputs": [],
   "source": [
    "train_df=pd.DataFrame()\n",
    "test_df=pd.DataFrame()\n",
    "testloader=[]"
   ]
  },
  {
   "cell_type": "code",
   "execution_count": 21,
   "metadata": {},
   "outputs": [],
   "source": [
    "torch.cuda.empty_cache()"
   ]
  },
  {
   "cell_type": "code",
   "execution_count": 32,
   "metadata": {},
   "outputs": [
    {
     "name": "stdout",
     "output_type": "stream",
     "text": [
      "Epoch 1/1\n",
      "----------\n"
     ]
    },
    {
     "data": {
      "application/vnd.jupyter.widget-view+json": {
       "model_id": "11522b56a71e44b6b9178fbb2b71fb2b",
       "version_major": 2,
       "version_minor": 0
      },
      "text/plain": [
       "HBox(children=(HTML(value='train'), FloatProgress(value=0.0, max=446.0), HTML(value='')))"
      ]
     },
     "metadata": {},
     "output_type": "display_data"
    },
    {
     "data": {
      "application/vnd.jupyter.widget-view+json": {
       "model_id": "b4f1c7817e154868b6ced6b4b4dd4c7a",
       "version_major": 2,
       "version_minor": 0
      },
      "text/plain": [
       "HBox(children=(HTML(value='val'), FloatProgress(value=0.0, max=446.0), HTML(value='')))"
      ]
     },
     "metadata": {},
     "output_type": "display_data"
    },
    {
     "name": "stdout",
     "output_type": "stream",
     "text": [
      "Val loss Decreased from inf to 0.4876 \n",
      "Saving Weights... \n",
      "\n",
      "********************\n",
      "Train_AUC: 0.8143     Train_loss: 0.5284\n",
      "  Val_AUC: 0.8505     Val_loss: 0.4876\n",
      "\n",
      "\n",
      "Training complete in 23m 54s\n",
      "Best val loss: 0.4876\n"
     ]
    }
   ],
   "source": [
    "base_model = train_model(model, criterion, optimizer, exp_lr_scheduler, num_epoch=1)"
   ]
  },
  {
   "cell_type": "code",
   "execution_count": 33,
   "metadata": {},
   "outputs": [],
   "source": [
    "path=\"/DATA/chowdari1/saved_models/stanford_gold(1epoch).pth\"\n",
    "torch.save(base_model.state_dict(), path)"
   ]
  },
  {
   "cell_type": "code",
   "execution_count": 22,
   "metadata": {},
   "outputs": [
    {
     "data": {
      "text/plain": [
       "<All keys matched successfully>"
      ]
     },
     "execution_count": 22,
     "metadata": {},
     "output_type": "execute_result"
    }
   ],
   "source": [
    "path=\"/DATA/chowdari1/saved_models/stanford_gold(100epoch).pth\"\n",
    "base_model=densenet_Model(pretrained=True)\n",
    "# x=torch.load(path)\n",
    "base_model.load_state_dict(torch.load(path))"
   ]
  },
  {
   "cell_type": "code",
   "execution_count": 23,
   "metadata": {},
   "outputs": [],
   "source": [
    "from sklearn import metrics\n",
    "def test(model,dataloader):\n",
    "\tmodel.eval()\n",
    "\trunning_corrects = 0\n",
    "\toutput_list =[]\n",
    "\tlabel_list = []\n",
    "\tpreds_list = []\n",
    "\tphase='test'\n",
    "\twith torch.no_grad():\n",
    "\t\tfor inputs, labels in tqdm.tqdm(dataloader, leave=False):\n",
    "\t\t\tlabels_auc = labels\n",
    "\t\t\tlabels_print = labels\n",
    "\t\t\tlabels_auc = labels_auc.type(torch.FloatTensor)\n",
    "\t\t\tlabels = labels.type(torch.LongTensor) #add for BCE loss\n",
    "\t\t\tinputs = inputs.cuda(gpu_id, non_blocking=True)\n",
    "\t\t\tlabels = labels.cuda(gpu_id, non_blocking=True)\n",
    "\t\t\tlabels_auc = labels_auc.cuda(gpu_id, non_blocking=True)\n",
    "\n",
    "\t\t\tlabels = labels.view(labels.size()[0],-1) #add for BCE loss\n",
    "\t\t\tlabels_auc = labels_auc.view(labels_auc.size()[0],-1) #add for BCE loss\n",
    "\t\t\t# forward\n",
    "\t\t\toutputs = model(inputs)\n",
    "\t\t\t# _, preds = torch.max(outputs.data, 1)\n",
    "\t\t\tscore = torch.sigmoid(outputs)\n",
    "\t\t\tscore_np = score.data.cpu().numpy()\n",
    "\t\t\tpreds = score>0.5\n",
    "\t\t\tpreds_np = preds.data.cpu().numpy()\n",
    "\t\t\tpreds = preds.type(torch.cuda.LongTensor)\n",
    "\n",
    "\t\t\tlabels_auc = labels_auc.data.cpu().numpy()\n",
    "\t\t\toutputs = outputs.data.cpu().numpy()\n",
    "\t\t\tfor i in range(outputs.shape[0]):\n",
    "\t\t\t\toutput_list.append(outputs[i].tolist())\n",
    "\t\t\t\tlabel_list.append(labels_auc[i].tolist())\n",
    "\t\t\t\tpreds_list.append(preds_np[i].tolist())\n",
    "\t\t\t# running_corrects += torch.sum(preds == labels.data)\n",
    "\t\t\t# labels = labels.type(torch.cuda.FloatTensor)\n",
    "\t\t\trunning_corrects += torch.sum(preds.data == labels.data) #add for BCE loss\n",
    "\tdata_size=len(dataloader.sampler)\n",
    "\tacc = np.float(running_corrects) / data_size\n",
    "\tauc = metrics.roc_auc_score(np.array(label_list), np.array(output_list), average=None)\n",
    "\t# print(auc)\n",
    "\tfpr, tpr, _ = metrics.roc_curve(np.array(label_list), np.array(output_list))\n",
    "\troc_auc = metrics.auc(fpr, tpr)\n",
    "\n",
    "\tap = metrics.average_precision_score(np.array(label_list), np.array(output_list))\n",
    "\t\n",
    "\ttn, fp, fn, tp = metrics.confusion_matrix(label_list, preds_list).ravel()\n",
    "\n",
    "\trecall = tp/(tp+fn)\n",
    "\tprecision = tp/(tp+fp)\n",
    "\tf1 = 2*precision*recall/(precision+recall)\n",
    "\tsensitivity = recall\n",
    "\tspecificity = tn/(tn+fp)\n",
    "\tPPV = tp/(tp+fp)\n",
    "\tNPV = tn/(tn+fn)\n",
    "\tprint(classification_report(label_list,preds_list))\n",
    "\tprint('Test Accuracy: {0:.4f}  Test AUC: {1:.4f}  Test_AP: {2:.4f}'.format(acc, auc, ap))\n",
    "\tprint('TP: {0:}  FP: {1:}  TN: {2:}  FN: {3:}'.format(tp, fp, tn, fn))\n",
    "\tprint('Sensitivity: {0:.4f}  Specificity: {1:.4f}'.format(sensitivity, specificity))\n",
    "\tprint('Precision: {0:.2f}%  Recall: {1:.2f}%  F1: {2:.4f}'.format(precision*100, recall*100, f1))\n",
    "\tprint('PPV: {0:.4f}  NPV: {1:.4f}'.format(PPV, NPV))\n",
    "\t# Plot all ROC curves\n",
    "\tplt.figure()\n",
    "\tplt.plot(fpr, tpr, color='darkorange', lw=2, label='ROC curve (area = %0.4f)' % roc_auc)\n",
    "\tplt.plot([0, 1], [0, 1], color='navy', lw=2, linestyle='--')\n",
    "\tplt.xlim([0.0, 1.0])\n",
    "\tplt.ylim([0.0, 1.0])\n",
    "\tplt.xlabel('False Positive Rate')\n",
    "\tplt.ylabel('True Positive Rate')\n",
    "\tplt.title('ROC curve of abnormal/normal classification: ')\n",
    "\tplt.legend(loc=\"lower right\")\n",
    "\t# plt.savefig('ROC_abnormal_normal_cls_'+args.arch+'_'+args.test_labels+'.pdf', bbox_inches='tight')\n",
    "\tplt.show()"
   ]
  },
  {
   "cell_type": "code",
   "execution_count": 24,
   "metadata": {},
   "outputs": [
    {
     "data": {
      "application/vnd.jupyter.widget-view+json": {
       "model_id": "c8b4a17e891644c084e86164f24e6d7c",
       "version_major": 2,
       "version_minor": 0
      },
      "text/plain": [
       "HBox(children=(HTML(value=''), FloatProgress(value=0.0, max=111.0), HTML(value='')))"
      ]
     },
     "metadata": {},
     "output_type": "display_data"
    },
    {
     "name": "stdout",
     "output_type": "stream",
     "text": [
      "              precision    recall  f1-score   support\n",
      "\n",
      "         0.0       0.79      0.81      0.80      3443\n",
      "         1.0       0.81      0.80      0.80      3645\n",
      "\n",
      "    accuracy                           0.80      7088\n",
      "   macro avg       0.80      0.80      0.80      7088\n",
      "weighted avg       0.80      0.80      0.80      7088\n",
      "\n",
      "Test Accuracy: 0.8015  Test AUC: 0.8817  Test_AP: 0.8815\n",
      "TP: 2899  FP: 661  TN: 2782  FN: 746\n",
      "Sensitivity: 0.7953  Specificity: 0.8080\n",
      "Precision: 81.43%  Recall: 79.53%  F1: 0.8047\n",
      "PPV: 0.8143  NPV: 0.7885\n"
     ]
    },
    {
     "data": {
      "image/png": "[encoded data removed]",
      "text/plain": [
       "<Figure size 432x288 with 1 Axes>"
      ]
     },
     "metadata": {},
     "output_type": "display_data"
    }
   ],
   "source": [
    "test(base_model,dataloaders['test'])\n",
    "# 100epoch"
   ]
  },
  {
   "cell_type": "code",
   "execution_count": 42,
   "metadata": {},
   "outputs": [
    {
     "data": {
      "application/vnd.jupyter.widget-view+json": {
       "model_id": "e72873b869e145d1a561f1d662344d90",
       "version_major": 2,
       "version_minor": 0
      },
      "text/plain": [
       "HBox(children=(HTML(value=''), FloatProgress(value=0.0, max=111.0), HTML(value='')))"
      ]
     },
     "metadata": {},
     "output_type": "display_data"
    },
    {
     "name": "stdout",
     "output_type": "stream",
     "text": [
      "              precision    recall  f1-score   support\n",
      "\n",
      "         0.0       0.75      0.81      0.78      3465\n",
      "         1.0       0.80      0.74      0.77      3623\n",
      "\n",
      "    accuracy                           0.77      7088\n",
      "   macro avg       0.78      0.77      0.77      7088\n",
      "weighted avg       0.78      0.77      0.77      7088\n",
      "\n",
      "Test Accuracy: 0.7738  Test AUC: 0.8478  Test_AP: 0.8436\n",
      "TP: 2678  FP: 658  TN: 2807  FN: 945\n",
      "Sensitivity: 0.7392  Specificity: 0.8101\n",
      "Precision: 80.28%  Recall: 73.92%  F1: 0.7697\n",
      "PPV: 0.8028  NPV: 0.7481\n"
     ]
    },
    {
     "data": {
      "image/png": "[encoded data removed]",
      "text/plain": [
       "<Figure size 432x288 with 1 Axes>"
      ]
     },
     "metadata": {},
     "output_type": "display_data"
    }
   ],
   "source": [
    "test(base_model,dataloaders['test'])\n",
    "# 1epoch"
   ]
  },
  {
   "cell_type": "code",
   "execution_count": null,
   "metadata": {},
   "outputs": [],
   "source": []
  }
 ],
 "metadata": {
  "interpreter": {
   "hash": "916dbcbb3f70747c44a77c7bcd40155683ae19c65e1c03b4aa3499c5328201f1"
  },
  "kernelspec": {
   "display_name": "Python 3 (ipykernel)",
   "language": "python",
   "name": "python3"
  },
  "language_info": {
   "codemirror_mode": {
    "name": "ipython",
    "version": 3
   },
   "file_extension": ".py",
   "mimetype": "text/x-python",
   "name": "python",
   "nbconvert_exporter": "python",
   "pygments_lexer": "ipython3",
   "version": "3.7.3"
  }
 },
 "nbformat": 4,
 "nbformat_minor": 2
}
