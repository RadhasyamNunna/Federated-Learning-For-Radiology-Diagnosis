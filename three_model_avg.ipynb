{
 "cells": [
  {
   "cell_type": "code",
   "execution_count": 52,
   "metadata": {},
   "outputs": [
    {
     "name": "stdout",
     "output_type": "stream",
     "text": [
      "True\n",
      "11721506816\n",
      "255093760\n"
     ]
    }
   ],
   "source": [
    "gpu=3\n",
    "CUDA_VISIBLE_DEVICES=gpu\n",
    "import numpy as np\n",
    "import pandas as pd\n",
    "import torch\n",
    "import torchvision\n",
    "import torch.nn as nn\n",
    "import torch.optim as optim\n",
    "from torchvision import datasets, models, transforms\n",
    "from torch.utils.data.sampler import SubsetRandomSampler\n",
    "import matplotlib.pyplot as plt\n",
    "import time\n",
    "import copy\n",
    "from random import shuffle\n",
    "import tqdm.notebook as tqdm\n",
    "import sklearn\n",
    "from sklearn.metrics import accuracy_score, cohen_kappa_score\n",
    "from sklearn.metrics import classification_report\n",
    "from PIL import Image\n",
    "import cv2\n",
    "import shutil\n",
    "import seaborn as sns\n",
    "import os\n",
    "import copy\n",
    "import torch\n",
    "import torch.nn as nn\n",
    "import torch.nn.functional as F\n",
    "import torch.optim as optim\n",
    "from torch.utils.data import DataLoader\n",
    "import torchvision.datasets as datasets\n",
    "import torchvision.transforms as transforms\n",
    "import matplotlib.pyplot as plt\n",
    "import torchvision\n",
    "from glob import glob\n",
    "from sklearn.metrics import roc_curve,auc, precision_score,precision_recall_curve,recall_score,precision_recall_fscore_support,confusion_matrix\n",
    "import numpy as np\n",
    "from sklearn.model_selection import train_test_split\n",
    "from torchvision import models\n",
    "from prettytable import PrettyTable\n",
    "print(torch.cuda.is_available())\n",
    "import warnings\n",
    "warnings.filterwarnings(\"ignore\")\n",
    "import pandas as pd\n",
    "print(torch.cuda.get_device_properties(0).total_memory)\n",
    "print(torch.cuda.memory_allocated())\n",
    "gpu_id = gpu"
   ]
  },
  {
   "cell_type": "code",
   "execution_count": 53,
   "metadata": {},
   "outputs": [
    {
     "name": "stdout",
     "output_type": "stream",
     "text": [
      "Training on GPU... Ready for HyperJump...\n"
     ]
    }
   ],
   "source": [
    "torch.cuda.empty_cache()\n",
    "device=torch.device(\"cuda:3\")\n",
    "torch.cuda.set_device(gpu)\n",
    "print(\"Training on GPU... Ready for HyperJump...\")"
   ]
  },
  {
   "cell_type": "code",
   "execution_count": 54,
   "metadata": {},
   "outputs": [],
   "source": [
    "def densenet_Model(pretrained=True):\n",
    "    model = models.densenet121(pretrained=pretrained) # Returns Defined Densenet model with weights trained on ImageNet\n",
    "    num_ftrs = model.classifier.in_features # Get the number of features output from CNN layer\n",
    "    model.classifier = nn.Linear(num_ftrs, 1) # Overwrites the Classifier layer with custom defined layer for transfer learning\n",
    "    model = model.to(device) # Transfer the Model to GPU if available\n",
    "    return model"
   ]
  },
  {
   "cell_type": "code",
   "execution_count": 55,
   "metadata": {},
   "outputs": [],
   "source": [
    "path=\"/DATA/chowdari1/saved_models/nih_ppr_gold(100epoch).pth\"\n",
    "model_nih = densenet_Model(pretrained=True)\n",
    "model_nih=model_nih.to(device)\n",
    "x_nih=torch.load(path,map_location='cpu')"
   ]
  },
  {
   "cell_type": "code",
   "execution_count": 56,
   "metadata": {},
   "outputs": [],
   "source": [
    "path=\"/DATA/chowdari1/saved_models/stanford_gold(100epoch).pth\"\n",
    "model_stanford = densenet_Model(pretrained=True)\n",
    "x_stanford=torch.load(path,map_location='cpu')"
   ]
  },
  {
   "cell_type": "code",
   "execution_count": 57,
   "metadata": {},
   "outputs": [],
   "source": [
    "path=\"/DATA/chowdari1/saved_models/vinbig_15k(100epoch).pth\"\n",
    "model_vinbig = densenet_Model(pretrained=True)\n",
    "x_vinbig=torch.load(path,map_location='cpu')"
   ]
  },
  {
   "cell_type": "code",
   "execution_count": 58,
   "metadata": {},
   "outputs": [],
   "source": [
    "model_global = densenet_Model(pretrained=True)\n",
    "x_global=torch.load(path)"
   ]
  },
  {
   "cell_type": "code",
   "execution_count": 59,
   "metadata": {},
   "outputs": [
    {
     "name": "stdout",
     "output_type": "stream",
     "text": [
      "<class 'odict_keys'>\n",
      "start\n",
      "tensor([0.0774, 0.1482, 0.1647, 0.1648, 0.1753, 0.1643, 0.1392],\n",
      "       device='cuda:3')\n"
     ]
    }
   ],
   "source": [
    "keys=x_stanford.keys()\n",
    "len(keys)\n",
    "print(type(keys))\n",
    "p=60\n",
    "q=51\n",
    "r=18\n",
    "abc=0\n",
    "print('start')\n",
    "for i in keys:\n",
    "    x_nih[i]=x_nih[i].to(device)\n",
    "    a=x_nih[i].float()\n",
    "    a*=(p/(p+q+r))\n",
    "    x_stanford[i]=x_stanford[i].to(device)\n",
    "    b=x_stanford[i].float()\n",
    "    b*=(q/(q+p+r))\n",
    "    x_vinbig[i]=x_vinbig[i].to(device)\n",
    "    c=x_vinbig[i].float()\n",
    "    c*=(r/(p+q+r))\n",
    "    x_global[i]=torch.add(a,b)\n",
    "    x_global[i]=torch.add(x_global[i],c)\n",
    "    x_global[i]=x_global[i].float()\n",
    "    if(abc==0):\n",
    "        print(x_global[i][0][0][0])\n",
    "        abc=1"
   ]
  },
  {
   "cell_type": "code",
   "execution_count": 60,
   "metadata": {},
   "outputs": [
    {
     "name": "stdout",
     "output_type": "stream",
     "text": [
      "model saved as:  /DATA/chowdari1/saved_models/ppr/three_val_loss_avg.pth\n"
     ]
    }
   ],
   "source": [
    "path=\"/DATA/chowdari1/saved_models/ppr/three_val_loss_avg.pth\"\n",
    "model_global = densenet_Model(pretrained=True)\n",
    "model_global.load_state_dict(x_global)\n",
    "torch.save(model_global.state_dict(), path)\n",
    "print('model saved as: ',path)"
   ]
  },
  {
   "cell_type": "code",
   "execution_count": 61,
   "metadata": {},
   "outputs": [
    {
     "name": "stdout",
     "output_type": "stream",
     "text": [
      "Tue Jan 25 16:04:48 2022       \n",
      "+-----------------------------------------------------------------------------+\n",
      "| NVIDIA-SMI 440.82       Driver Version: 440.82       CUDA Version: 10.2     |\n",
      "|-------------------------------+----------------------+----------------------+\n",
      "| GPU  Name        Persistence-M| Bus-Id        Disp.A | Volatile Uncorr. ECC |\n",
      "| Fan  Temp  Perf  Pwr:Usage/Cap|         Memory-Usage | GPU-Util  Compute M. |\n",
      "|===============================+======================+======================|\n",
      "|   0  GeForce GTX 108...  Off  | 00000000:04:00.0 Off |                  N/A |\n",
      "| 42%   74C    P2    91W / 250W |   2471MiB / 11178MiB |     66%      Default |\n",
      "+-------------------------------+----------------------+----------------------+\n",
      "|   1  GeForce GTX 108...  Off  | 00000000:06:00.0 Off |                  N/A |\n",
      "| 20%   27C    P8     6W / 250W |     10MiB / 11178MiB |      0%      Default |\n",
      "+-------------------------------+----------------------+----------------------+\n",
      "|   2  GeForce GTX 108...  Off  | 00000000:07:00.0 Off |                  N/A |\n",
      "| 25%   29C    P8     7W / 250W |     10MiB / 11178MiB |      0%      Default |\n",
      "+-------------------------------+----------------------+----------------------+\n",
      "|   3  GeForce GTX 108...  Off  | 00000000:08:00.0 Off |                  N/A |\n",
      "| 47%   79C    P2   185W / 250W |   6034MiB / 11178MiB |    100%      Default |\n",
      "+-------------------------------+----------------------+----------------------+\n",
      "|   4  GeForce GTX 108...  Off  | 00000000:0C:00.0 Off |                  N/A |\n",
      "| 44%   73C    P2    76W / 250W |   4975MiB / 11178MiB |      0%      Default |\n",
      "+-------------------------------+----------------------+----------------------+\n",
      "|   5  GeForce GTX 108...  Off  | 00000000:0D:00.0 Off |                  N/A |\n",
      "| 26%   42C    P2    62W / 250W |   2067MiB / 11178MiB |      0%      Default |\n",
      "+-------------------------------+----------------------+----------------------+\n",
      "|   6  GeForce GTX 108...  Off  | 00000000:0E:00.0 Off |                  N/A |\n",
      "| 20%   29C    P8     7W / 250W |    857MiB / 11178MiB |      0%      Default |\n",
      "+-------------------------------+----------------------+----------------------+\n",
      "|   7  GeForce GTX 108...  Off  | 00000000:0F:00.0 Off |                  N/A |\n",
      "| 20%   48C    P2    63W / 250W |   2067MiB / 11178MiB |      0%      Default |\n",
      "+-------------------------------+----------------------+----------------------+\n",
      "                                                                               \n",
      "+-----------------------------------------------------------------------------+\n",
      "| Processes:                                                       GPU Memory |\n",
      "|  GPU       PID   Type   Process name                             Usage      |\n",
      "|=============================================================================|\n",
      "|    0     40951      C   python3                                     2461MiB |\n",
      "|    3     21766      C   /bin/python3                                1083MiB |\n",
      "|    3     43812      C   python3                                     4941MiB |\n",
      "|    4     44288      C   python3                                     4965MiB |\n",
      "|    5      9520      C   python3                                     2057MiB |\n",
      "|    6     21766      C   /bin/python3                                 847MiB |\n",
      "|    7      6845      C   python3                                     2057MiB |\n",
      "+-----------------------------------------------------------------------------+\n"
     ]
    }
   ],
   "source": [
    "!nvidia-smi"
   ]
  }
 ],
 "metadata": {
  "interpreter": {
   "hash": "916dbcbb3f70747c44a77c7bcd40155683ae19c65e1c03b4aa3499c5328201f1"
  },
  "kernelspec": {
   "display_name": "Python 3.7.3 64-bit",
   "language": "python",
   "name": "python3"
  },
  "language_info": {
   "codemirror_mode": {
    "name": "ipython",
    "version": 3
   },
   "file_extension": ".py",
   "mimetype": "text/x-python",
   "name": "python",
   "nbconvert_exporter": "python",
   "pygments_lexer": "ipython3",
   "version": "3.7.3"
  },
  "orig_nbformat": 4
 },
 "nbformat": 4,
 "nbformat_minor": 2
}
